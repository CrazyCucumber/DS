{
 "cells": [
  {
   "cell_type": "markdown",
   "id": "a8fd4a50",
   "metadata": {},
   "source": [
    "Задача: по 38 признакам, связанных с заявкой на грант (область исследований учёных, информация по их академическому бэкграунду, размер гранта, область, в которой он выдаётся) предсказать, будет ли заявка принята. Датасет включает в себя информацию по 6000 заявкам на гранты, которые были поданы в университете Мельбурна в период с 2004 по 2008 год."
   ]
  },
  {
   "cell_type": "code",
   "execution_count": 1,
   "id": "220214f3",
   "metadata": {},
   "outputs": [],
   "source": [
    "import warnings\n",
    "warnings.filterwarnings('ignore')\n",
    "\n",
    "import pandas as pd\n",
    "import numpy as np\n",
    "import matplotlib\n",
    "from matplotlib import pyplot as plt\n",
    "\n",
    "%matplotlib inline"
   ]
  },
  {
   "cell_type": "code",
   "execution_count": 2,
   "id": "a986e048",
   "metadata": {},
   "outputs": [],
   "source": [
    "data = pd.read_csv('D:\\DATA\\clas_data.csv')"
   ]
  },
  {
   "cell_type": "code",
   "execution_count": 3,
   "id": "fc9ee606",
   "metadata": {},
   "outputs": [
    {
     "data": {
      "text/plain": [
       "(6000, 39)"
      ]
     },
     "execution_count": 3,
     "metadata": {},
     "output_type": "execute_result"
    }
   ],
   "source": [
    "data.shape"
   ]
  },
  {
   "cell_type": "code",
   "execution_count": 4,
   "id": "6ba83a4b",
   "metadata": {},
   "outputs": [
    {
     "data": {
      "text/html": [
       "<div>\n",
       "<style scoped>\n",
       "    .dataframe tbody tr th:only-of-type {\n",
       "        vertical-align: middle;\n",
       "    }\n",
       "\n",
       "    .dataframe tbody tr th {\n",
       "        vertical-align: top;\n",
       "    }\n",
       "\n",
       "    .dataframe thead th {\n",
       "        text-align: right;\n",
       "    }\n",
       "</style>\n",
       "<table border=\"1\" class=\"dataframe\">\n",
       "  <thead>\n",
       "    <tr style=\"text-align: right;\">\n",
       "      <th></th>\n",
       "      <th>Grant.Status</th>\n",
       "      <th>Sponsor.Code</th>\n",
       "      <th>Grant.Category.Code</th>\n",
       "      <th>Contract.Value.Band...see.note.A</th>\n",
       "      <th>RFCD.Code.1</th>\n",
       "      <th>RFCD.Percentage.1</th>\n",
       "      <th>RFCD.Code.2</th>\n",
       "      <th>RFCD.Percentage.2</th>\n",
       "      <th>RFCD.Code.3</th>\n",
       "      <th>RFCD.Percentage.3</th>\n",
       "      <th>...</th>\n",
       "      <th>Dept.No..1</th>\n",
       "      <th>Faculty.No..1</th>\n",
       "      <th>With.PHD.1</th>\n",
       "      <th>No..of.Years.in.Uni.at.Time.of.Grant.1</th>\n",
       "      <th>Number.of.Successful.Grant.1</th>\n",
       "      <th>Number.of.Unsuccessful.Grant.1</th>\n",
       "      <th>A..1</th>\n",
       "      <th>A.1</th>\n",
       "      <th>B.1</th>\n",
       "      <th>C.1</th>\n",
       "    </tr>\n",
       "  </thead>\n",
       "  <tbody>\n",
       "    <tr>\n",
       "      <th>0</th>\n",
       "      <td>1</td>\n",
       "      <td>21A</td>\n",
       "      <td>50A</td>\n",
       "      <td>A</td>\n",
       "      <td>230202.0</td>\n",
       "      <td>50.0</td>\n",
       "      <td>230203.0</td>\n",
       "      <td>30.0</td>\n",
       "      <td>230204.0</td>\n",
       "      <td>20.0</td>\n",
       "      <td>...</td>\n",
       "      <td>3098.0</td>\n",
       "      <td>31.0</td>\n",
       "      <td>Yes</td>\n",
       "      <td>&gt;=0 to 5</td>\n",
       "      <td>2.0</td>\n",
       "      <td>0.0</td>\n",
       "      <td>0.0</td>\n",
       "      <td>4.0</td>\n",
       "      <td>2.0</td>\n",
       "      <td>0.0</td>\n",
       "    </tr>\n",
       "    <tr>\n",
       "      <th>1</th>\n",
       "      <td>1</td>\n",
       "      <td>4D</td>\n",
       "      <td>10A</td>\n",
       "      <td>D</td>\n",
       "      <td>320801.0</td>\n",
       "      <td>100.0</td>\n",
       "      <td>0.0</td>\n",
       "      <td>0.0</td>\n",
       "      <td>0.0</td>\n",
       "      <td>0.0</td>\n",
       "      <td>...</td>\n",
       "      <td>2553.0</td>\n",
       "      <td>25.0</td>\n",
       "      <td>Yes</td>\n",
       "      <td>&gt;=0 to 5</td>\n",
       "      <td>3.0</td>\n",
       "      <td>1.0</td>\n",
       "      <td>0.0</td>\n",
       "      <td>2.0</td>\n",
       "      <td>0.0</td>\n",
       "      <td>0.0</td>\n",
       "    </tr>\n",
       "    <tr>\n",
       "      <th>2</th>\n",
       "      <td>0</td>\n",
       "      <td>NaN</td>\n",
       "      <td>NaN</td>\n",
       "      <td>NaN</td>\n",
       "      <td>320602.0</td>\n",
       "      <td>50.0</td>\n",
       "      <td>321004.0</td>\n",
       "      <td>30.0</td>\n",
       "      <td>321015.0</td>\n",
       "      <td>20.0</td>\n",
       "      <td>...</td>\n",
       "      <td>2813.0</td>\n",
       "      <td>25.0</td>\n",
       "      <td>NaN</td>\n",
       "      <td>Less than 0</td>\n",
       "      <td>1.0</td>\n",
       "      <td>5.0</td>\n",
       "      <td>0.0</td>\n",
       "      <td>7.0</td>\n",
       "      <td>2.0</td>\n",
       "      <td>0.0</td>\n",
       "    </tr>\n",
       "    <tr>\n",
       "      <th>3</th>\n",
       "      <td>0</td>\n",
       "      <td>51C</td>\n",
       "      <td>20C</td>\n",
       "      <td>A</td>\n",
       "      <td>291503.0</td>\n",
       "      <td>60.0</td>\n",
       "      <td>321402.0</td>\n",
       "      <td>40.0</td>\n",
       "      <td>0.0</td>\n",
       "      <td>0.0</td>\n",
       "      <td>...</td>\n",
       "      <td>2553.0</td>\n",
       "      <td>25.0</td>\n",
       "      <td>NaN</td>\n",
       "      <td>more than 15</td>\n",
       "      <td>2.0</td>\n",
       "      <td>1.0</td>\n",
       "      <td>5.0</td>\n",
       "      <td>6.0</td>\n",
       "      <td>9.0</td>\n",
       "      <td>1.0</td>\n",
       "    </tr>\n",
       "    <tr>\n",
       "      <th>4</th>\n",
       "      <td>0</td>\n",
       "      <td>24D</td>\n",
       "      <td>30B</td>\n",
       "      <td>NaN</td>\n",
       "      <td>380107.0</td>\n",
       "      <td>100.0</td>\n",
       "      <td>0.0</td>\n",
       "      <td>0.0</td>\n",
       "      <td>0.0</td>\n",
       "      <td>0.0</td>\n",
       "      <td>...</td>\n",
       "      <td>2923.0</td>\n",
       "      <td>25.0</td>\n",
       "      <td>NaN</td>\n",
       "      <td>Less than 0</td>\n",
       "      <td>0.0</td>\n",
       "      <td>2.0</td>\n",
       "      <td>0.0</td>\n",
       "      <td>0.0</td>\n",
       "      <td>0.0</td>\n",
       "      <td>0.0</td>\n",
       "    </tr>\n",
       "    <tr>\n",
       "      <th>...</th>\n",
       "      <td>...</td>\n",
       "      <td>...</td>\n",
       "      <td>...</td>\n",
       "      <td>...</td>\n",
       "      <td>...</td>\n",
       "      <td>...</td>\n",
       "      <td>...</td>\n",
       "      <td>...</td>\n",
       "      <td>...</td>\n",
       "      <td>...</td>\n",
       "      <td>...</td>\n",
       "      <td>...</td>\n",
       "      <td>...</td>\n",
       "      <td>...</td>\n",
       "      <td>...</td>\n",
       "      <td>...</td>\n",
       "      <td>...</td>\n",
       "      <td>...</td>\n",
       "      <td>...</td>\n",
       "      <td>...</td>\n",
       "      <td>...</td>\n",
       "    </tr>\n",
       "    <tr>\n",
       "      <th>5995</th>\n",
       "      <td>1</td>\n",
       "      <td>21A</td>\n",
       "      <td>50A</td>\n",
       "      <td>NaN</td>\n",
       "      <td>430102.0</td>\n",
       "      <td>50.0</td>\n",
       "      <td>440207.0</td>\n",
       "      <td>30.0</td>\n",
       "      <td>379999.0</td>\n",
       "      <td>20.0</td>\n",
       "      <td>...</td>\n",
       "      <td>653.0</td>\n",
       "      <td>7.0</td>\n",
       "      <td>Yes</td>\n",
       "      <td>&gt;=0 to 5</td>\n",
       "      <td>2.0</td>\n",
       "      <td>0.0</td>\n",
       "      <td>1.0</td>\n",
       "      <td>1.0</td>\n",
       "      <td>0.0</td>\n",
       "      <td>0.0</td>\n",
       "    </tr>\n",
       "    <tr>\n",
       "      <th>5996</th>\n",
       "      <td>1</td>\n",
       "      <td>163C</td>\n",
       "      <td>10A</td>\n",
       "      <td>NaN</td>\n",
       "      <td>NaN</td>\n",
       "      <td>NaN</td>\n",
       "      <td>NaN</td>\n",
       "      <td>NaN</td>\n",
       "      <td>NaN</td>\n",
       "      <td>NaN</td>\n",
       "      <td>...</td>\n",
       "      <td>NaN</td>\n",
       "      <td>NaN</td>\n",
       "      <td>NaN</td>\n",
       "      <td>NaN</td>\n",
       "      <td>0.0</td>\n",
       "      <td>0.0</td>\n",
       "      <td>0.0</td>\n",
       "      <td>1.0</td>\n",
       "      <td>0.0</td>\n",
       "      <td>0.0</td>\n",
       "    </tr>\n",
       "    <tr>\n",
       "      <th>5997</th>\n",
       "      <td>1</td>\n",
       "      <td>112D</td>\n",
       "      <td>30C</td>\n",
       "      <td>A</td>\n",
       "      <td>321204.0</td>\n",
       "      <td>40.0</td>\n",
       "      <td>321208.0</td>\n",
       "      <td>40.0</td>\n",
       "      <td>321210.0</td>\n",
       "      <td>20.0</td>\n",
       "      <td>...</td>\n",
       "      <td>2523.0</td>\n",
       "      <td>25.0</td>\n",
       "      <td>Yes</td>\n",
       "      <td>&gt;10 to 15</td>\n",
       "      <td>3.0</td>\n",
       "      <td>3.0</td>\n",
       "      <td>2.0</td>\n",
       "      <td>2.0</td>\n",
       "      <td>2.0</td>\n",
       "      <td>5.0</td>\n",
       "    </tr>\n",
       "    <tr>\n",
       "      <th>5998</th>\n",
       "      <td>1</td>\n",
       "      <td>NaN</td>\n",
       "      <td>NaN</td>\n",
       "      <td>A</td>\n",
       "      <td>NaN</td>\n",
       "      <td>NaN</td>\n",
       "      <td>NaN</td>\n",
       "      <td>NaN</td>\n",
       "      <td>NaN</td>\n",
       "      <td>NaN</td>\n",
       "      <td>...</td>\n",
       "      <td>1798.0</td>\n",
       "      <td>118.0</td>\n",
       "      <td>NaN</td>\n",
       "      <td>Less than 0</td>\n",
       "      <td>0.0</td>\n",
       "      <td>0.0</td>\n",
       "      <td>0.0</td>\n",
       "      <td>0.0</td>\n",
       "      <td>1.0</td>\n",
       "      <td>2.0</td>\n",
       "    </tr>\n",
       "    <tr>\n",
       "      <th>5999</th>\n",
       "      <td>0</td>\n",
       "      <td>4D</td>\n",
       "      <td>10A</td>\n",
       "      <td>NaN</td>\n",
       "      <td>321029.0</td>\n",
       "      <td>100.0</td>\n",
       "      <td>0.0</td>\n",
       "      <td>0.0</td>\n",
       "      <td>0.0</td>\n",
       "      <td>0.0</td>\n",
       "      <td>...</td>\n",
       "      <td>2778.0</td>\n",
       "      <td>25.0</td>\n",
       "      <td>NaN</td>\n",
       "      <td>&gt;5 to 10</td>\n",
       "      <td>0.0</td>\n",
       "      <td>2.0</td>\n",
       "      <td>0.0</td>\n",
       "      <td>0.0</td>\n",
       "      <td>2.0</td>\n",
       "      <td>1.0</td>\n",
       "    </tr>\n",
       "  </tbody>\n",
       "</table>\n",
       "<p>6000 rows × 39 columns</p>\n",
       "</div>"
      ],
      "text/plain": [
       "      Grant.Status Sponsor.Code Grant.Category.Code  \\\n",
       "0                1          21A                 50A   \n",
       "1                1           4D                 10A   \n",
       "2                0          NaN                 NaN   \n",
       "3                0          51C                 20C   \n",
       "4                0          24D                 30B   \n",
       "...            ...          ...                 ...   \n",
       "5995             1          21A                 50A   \n",
       "5996             1         163C                 10A   \n",
       "5997             1         112D                 30C   \n",
       "5998             1          NaN                 NaN   \n",
       "5999             0           4D                 10A   \n",
       "\n",
       "     Contract.Value.Band...see.note.A  RFCD.Code.1  RFCD.Percentage.1  \\\n",
       "0                                  A      230202.0               50.0   \n",
       "1                                  D      320801.0              100.0   \n",
       "2                                 NaN     320602.0               50.0   \n",
       "3                                  A      291503.0               60.0   \n",
       "4                                 NaN     380107.0              100.0   \n",
       "...                               ...          ...                ...   \n",
       "5995                              NaN     430102.0               50.0   \n",
       "5996                              NaN          NaN                NaN   \n",
       "5997                               A      321204.0               40.0   \n",
       "5998                               A           NaN                NaN   \n",
       "5999                              NaN     321029.0              100.0   \n",
       "\n",
       "      RFCD.Code.2  RFCD.Percentage.2  RFCD.Code.3  RFCD.Percentage.3  ...  \\\n",
       "0        230203.0               30.0     230204.0               20.0  ...   \n",
       "1             0.0                0.0          0.0                0.0  ...   \n",
       "2        321004.0               30.0     321015.0               20.0  ...   \n",
       "3        321402.0               40.0          0.0                0.0  ...   \n",
       "4             0.0                0.0          0.0                0.0  ...   \n",
       "...           ...                ...          ...                ...  ...   \n",
       "5995     440207.0               30.0     379999.0               20.0  ...   \n",
       "5996          NaN                NaN          NaN                NaN  ...   \n",
       "5997     321208.0               40.0     321210.0               20.0  ...   \n",
       "5998          NaN                NaN          NaN                NaN  ...   \n",
       "5999          0.0                0.0          0.0                0.0  ...   \n",
       "\n",
       "      Dept.No..1  Faculty.No..1  With.PHD.1  \\\n",
       "0         3098.0           31.0        Yes    \n",
       "1         2553.0           25.0        Yes    \n",
       "2         2813.0           25.0         NaN   \n",
       "3         2553.0           25.0         NaN   \n",
       "4         2923.0           25.0         NaN   \n",
       "...          ...            ...         ...   \n",
       "5995       653.0            7.0        Yes    \n",
       "5996         NaN            NaN         NaN   \n",
       "5997      2523.0           25.0        Yes    \n",
       "5998      1798.0          118.0         NaN   \n",
       "5999      2778.0           25.0         NaN   \n",
       "\n",
       "      No..of.Years.in.Uni.at.Time.of.Grant.1  Number.of.Successful.Grant.1  \\\n",
       "0                                   >=0 to 5                           2.0   \n",
       "1                                   >=0 to 5                           3.0   \n",
       "2                                Less than 0                           1.0   \n",
       "3                               more than 15                           2.0   \n",
       "4                                Less than 0                           0.0   \n",
       "...                                      ...                           ...   \n",
       "5995                                >=0 to 5                           2.0   \n",
       "5996                                     NaN                           0.0   \n",
       "5997                               >10 to 15                           3.0   \n",
       "5998                             Less than 0                           0.0   \n",
       "5999                                >5 to 10                           0.0   \n",
       "\n",
       "      Number.of.Unsuccessful.Grant.1  A..1  A.1  B.1  C.1  \n",
       "0                                0.0   0.0  4.0  2.0  0.0  \n",
       "1                                1.0   0.0  2.0  0.0  0.0  \n",
       "2                                5.0   0.0  7.0  2.0  0.0  \n",
       "3                                1.0   5.0  6.0  9.0  1.0  \n",
       "4                                2.0   0.0  0.0  0.0  0.0  \n",
       "...                              ...   ...  ...  ...  ...  \n",
       "5995                             0.0   1.0  1.0  0.0  0.0  \n",
       "5996                             0.0   0.0  1.0  0.0  0.0  \n",
       "5997                             3.0   2.0  2.0  2.0  5.0  \n",
       "5998                             0.0   0.0  0.0  1.0  2.0  \n",
       "5999                             2.0   0.0  0.0  2.0  1.0  \n",
       "\n",
       "[6000 rows x 39 columns]"
      ]
     },
     "execution_count": 4,
     "metadata": {},
     "output_type": "execute_result"
    }
   ],
   "source": [
    "data"
   ]
  },
  {
   "cell_type": "markdown",
   "id": "f63b52fa",
   "metadata": {},
   "source": [
    "Выделю целевую переменную и обозначу её за Y,\n",
    "а все остальные - за X"
   ]
  },
  {
   "cell_type": "code",
   "execution_count": 18,
   "id": "25ca4551",
   "metadata": {},
   "outputs": [
    {
     "name": "stdout",
     "output_type": "stream",
     "text": [
      "(6000, 38) (6000,)\n"
     ]
    }
   ],
   "source": [
    "X = data.drop('Grant.Status', 1)\n",
    "y = data['Grant.Status']\n",
    "print(X.shape, Y.shape)"
   ]
  },
  {
   "cell_type": "markdown",
   "id": "3ae0cd9c",
   "metadata": {},
   "source": [
    "### Предобработка данных"
   ]
  },
  {
   "cell_type": "code",
   "execution_count": 19,
   "id": "117e99dc",
   "metadata": {},
   "outputs": [
    {
     "data": {
      "text/plain": [
       "Grant.Status                              False\n",
       "Sponsor.Code                               True\n",
       "Grant.Category.Code                        True\n",
       "Contract.Value.Band...see.note.A           True\n",
       "RFCD.Code.1                                True\n",
       "RFCD.Percentage.1                          True\n",
       "RFCD.Code.2                                True\n",
       "RFCD.Percentage.2                          True\n",
       "RFCD.Code.3                                True\n",
       "RFCD.Percentage.3                          True\n",
       "RFCD.Code.4                                True\n",
       "RFCD.Percentage.4                          True\n",
       "RFCD.Code.5                                True\n",
       "RFCD.Percentage.5                          True\n",
       "SEO.Code.1                                 True\n",
       "SEO.Percentage.1                           True\n",
       "SEO.Code.2                                 True\n",
       "SEO.Percentage.2                           True\n",
       "SEO.Code.3                                 True\n",
       "SEO.Percentage.3                           True\n",
       "SEO.Code.4                                 True\n",
       "SEO.Percentage.4                           True\n",
       "SEO.Code.5                                 True\n",
       "SEO.Percentage.5                           True\n",
       "Person.ID.1                                True\n",
       "Role.1                                     True\n",
       "Year.of.Birth.1                            True\n",
       "Country.of.Birth.1                         True\n",
       "Home.Language.1                            True\n",
       "Dept.No..1                                 True\n",
       "Faculty.No..1                              True\n",
       "With.PHD.1                                 True\n",
       "No..of.Years.in.Uni.at.Time.of.Grant.1     True\n",
       "Number.of.Successful.Grant.1               True\n",
       "Number.of.Unsuccessful.Grant.1             True\n",
       "A..1                                       True\n",
       "A.1                                        True\n",
       "B.1                                        True\n",
       "C.1                                        True\n",
       "dtype: bool"
      ]
     },
     "execution_count": 19,
     "metadata": {},
     "output_type": "execute_result"
    }
   ],
   "source": [
    "pd.isnull(data).any()"
   ]
  },
  {
   "cell_type": "markdown",
   "id": "d6977d24",
   "metadata": {},
   "source": [
    "### \n",
    "Очень много пропущенных значений.\n",
    "Просто удалим их"
   ]
  },
  {
   "cell_type": "code",
   "execution_count": 20,
   "id": "ac991c01",
   "metadata": {},
   "outputs": [
    {
     "data": {
      "text/plain": [
       "(213, 39)"
      ]
     },
     "execution_count": 20,
     "metadata": {},
     "output_type": "execute_result"
    }
   ],
   "source": [
    "data.dropna().shape"
   ]
  },
  {
   "cell_type": "markdown",
   "id": "e7e12a80",
   "metadata": {},
   "source": [
    "Удалились почти все данные, следовательно, такой метод решения проблемы не подходит\n",
    "Пропущенные значения можно так же интерпретировать, для этого существует несколько способов, они различаются для категориальных и вещественных признаков.\n",
    "\n",
    "Для вещественных признаков:\n",
    "1) заменить на 0\n",
    "\n",
    "2) заменить на среднее\n",
    "\n",
    "Для категориальных:\n",
    "1) интерпретировать пропущенное значение, как ещё одну категорию"
   ]
  },
  {
   "cell_type": "markdown",
   "id": "0dfe4e66",
   "metadata": {},
   "source": [
    "### Обработка пропущенных значений"
   ]
  },
  {
   "cell_type": "markdown",
   "id": "2ff5abf8",
   "metadata": {},
   "source": [
    "Получим все столбцы с вещественными значениями и категориальными"
   ]
  },
  {
   "cell_type": "code",
   "execution_count": 21,
   "id": "b7de9201",
   "metadata": {},
   "outputs": [],
   "source": [
    "numeric_cols = ['RFCD.Percentage.1', 'RFCD.Percentage.2', 'RFCD.Percentage.3', \n",
    "                'RFCD.Percentage.4', 'RFCD.Percentage.5',\n",
    "                'SEO.Percentage.1', 'SEO.Percentage.2', 'SEO.Percentage.3',\n",
    "                'SEO.Percentage.4', 'SEO.Percentage.5',\n",
    "                'Year.of.Birth.1', 'Number.of.Successful.Grant.1', 'Number.of.Unsuccessful.Grant.1']\n",
    "categorical_cols = list(set(X.columns.values.tolist()) - set(numeric_cols))"
   ]
  },
  {
   "cell_type": "markdown",
   "id": "f24e32e5",
   "metadata": {},
   "source": [
    "Сделаем обработку"
   ]
  },
  {
   "cell_type": "code",
   "execution_count": 22,
   "id": "b3ad62de",
   "metadata": {},
   "outputs": [
    {
     "name": "stdout",
     "output_type": "stream",
     "text": [
      "(6000, 13)\n"
     ]
    },
    {
     "data": {
      "text/html": [
       "<div>\n",
       "<style scoped>\n",
       "    .dataframe tbody tr th:only-of-type {\n",
       "        vertical-align: middle;\n",
       "    }\n",
       "\n",
       "    .dataframe tbody tr th {\n",
       "        vertical-align: top;\n",
       "    }\n",
       "\n",
       "    .dataframe thead th {\n",
       "        text-align: right;\n",
       "    }\n",
       "</style>\n",
       "<table border=\"1\" class=\"dataframe\">\n",
       "  <thead>\n",
       "    <tr style=\"text-align: right;\">\n",
       "      <th></th>\n",
       "      <th>RFCD.Percentage.1</th>\n",
       "      <th>RFCD.Percentage.2</th>\n",
       "      <th>RFCD.Percentage.3</th>\n",
       "      <th>RFCD.Percentage.4</th>\n",
       "      <th>RFCD.Percentage.5</th>\n",
       "      <th>SEO.Percentage.1</th>\n",
       "      <th>SEO.Percentage.2</th>\n",
       "      <th>SEO.Percentage.3</th>\n",
       "      <th>SEO.Percentage.4</th>\n",
       "      <th>SEO.Percentage.5</th>\n",
       "      <th>Year.of.Birth.1</th>\n",
       "      <th>Number.of.Successful.Grant.1</th>\n",
       "      <th>Number.of.Unsuccessful.Grant.1</th>\n",
       "    </tr>\n",
       "  </thead>\n",
       "  <tbody>\n",
       "    <tr>\n",
       "      <th>0</th>\n",
       "      <td>50.0</td>\n",
       "      <td>30.0</td>\n",
       "      <td>20.0</td>\n",
       "      <td>0.0</td>\n",
       "      <td>0.0</td>\n",
       "      <td>100.0</td>\n",
       "      <td>0.0</td>\n",
       "      <td>0.0</td>\n",
       "      <td>0.0</td>\n",
       "      <td>0.0</td>\n",
       "      <td>1965.0</td>\n",
       "      <td>2.0</td>\n",
       "      <td>0.0</td>\n",
       "    </tr>\n",
       "    <tr>\n",
       "      <th>1</th>\n",
       "      <td>100.0</td>\n",
       "      <td>0.0</td>\n",
       "      <td>0.0</td>\n",
       "      <td>0.0</td>\n",
       "      <td>0.0</td>\n",
       "      <td>100.0</td>\n",
       "      <td>0.0</td>\n",
       "      <td>0.0</td>\n",
       "      <td>0.0</td>\n",
       "      <td>0.0</td>\n",
       "      <td>1965.0</td>\n",
       "      <td>3.0</td>\n",
       "      <td>1.0</td>\n",
       "    </tr>\n",
       "    <tr>\n",
       "      <th>2</th>\n",
       "      <td>50.0</td>\n",
       "      <td>30.0</td>\n",
       "      <td>20.0</td>\n",
       "      <td>0.0</td>\n",
       "      <td>0.0</td>\n",
       "      <td>60.0</td>\n",
       "      <td>20.0</td>\n",
       "      <td>20.0</td>\n",
       "      <td>0.0</td>\n",
       "      <td>0.0</td>\n",
       "      <td>1955.0</td>\n",
       "      <td>1.0</td>\n",
       "      <td>5.0</td>\n",
       "    </tr>\n",
       "    <tr>\n",
       "      <th>3</th>\n",
       "      <td>60.0</td>\n",
       "      <td>40.0</td>\n",
       "      <td>0.0</td>\n",
       "      <td>0.0</td>\n",
       "      <td>0.0</td>\n",
       "      <td>60.0</td>\n",
       "      <td>40.0</td>\n",
       "      <td>0.0</td>\n",
       "      <td>0.0</td>\n",
       "      <td>0.0</td>\n",
       "      <td>1950.0</td>\n",
       "      <td>2.0</td>\n",
       "      <td>1.0</td>\n",
       "    </tr>\n",
       "    <tr>\n",
       "      <th>4</th>\n",
       "      <td>100.0</td>\n",
       "      <td>0.0</td>\n",
       "      <td>0.0</td>\n",
       "      <td>0.0</td>\n",
       "      <td>0.0</td>\n",
       "      <td>50.0</td>\n",
       "      <td>50.0</td>\n",
       "      <td>0.0</td>\n",
       "      <td>0.0</td>\n",
       "      <td>0.0</td>\n",
       "      <td>1970.0</td>\n",
       "      <td>0.0</td>\n",
       "      <td>2.0</td>\n",
       "    </tr>\n",
       "  </tbody>\n",
       "</table>\n",
       "</div>"
      ],
      "text/plain": [
       "   RFCD.Percentage.1  RFCD.Percentage.2  RFCD.Percentage.3  RFCD.Percentage.4  \\\n",
       "0               50.0               30.0               20.0                0.0   \n",
       "1              100.0                0.0                0.0                0.0   \n",
       "2               50.0               30.0               20.0                0.0   \n",
       "3               60.0               40.0                0.0                0.0   \n",
       "4              100.0                0.0                0.0                0.0   \n",
       "\n",
       "   RFCD.Percentage.5  SEO.Percentage.1  SEO.Percentage.2  SEO.Percentage.3  \\\n",
       "0                0.0             100.0               0.0               0.0   \n",
       "1                0.0             100.0               0.0               0.0   \n",
       "2                0.0              60.0              20.0              20.0   \n",
       "3                0.0              60.0              40.0               0.0   \n",
       "4                0.0              50.0              50.0               0.0   \n",
       "\n",
       "   SEO.Percentage.4  SEO.Percentage.5  Year.of.Birth.1  \\\n",
       "0               0.0               0.0           1965.0   \n",
       "1               0.0               0.0           1965.0   \n",
       "2               0.0               0.0           1955.0   \n",
       "3               0.0               0.0           1950.0   \n",
       "4               0.0               0.0           1970.0   \n",
       "\n",
       "   Number.of.Successful.Grant.1  Number.of.Unsuccessful.Grant.1  \n",
       "0                           2.0                             0.0  \n",
       "1                           3.0                             1.0  \n",
       "2                           1.0                             5.0  \n",
       "3                           2.0                             1.0  \n",
       "4                           0.0                             2.0  "
      ]
     },
     "execution_count": 22,
     "metadata": {},
     "output_type": "execute_result"
    }
   ],
   "source": [
    "#Заполнение нулями пропущенных вещественных признаков\n",
    "X_real_zeros = X[numeric_cols].fillna(0)\n",
    "print(X_real_zeros.shape)\n",
    "X_real_zeros.head()"
   ]
  },
  {
   "cell_type": "code",
   "execution_count": 23,
   "id": "78da240d",
   "metadata": {},
   "outputs": [],
   "source": [
    "#Высчитывает среднее в каждом из столбцов\n",
    "def calculate_means(numeric_data):\n",
    "    means = np.zeros(numeric_data.shape[1])\n",
    "    for j in range(numeric_data.shape[1]):\n",
    "        means[j] = numeric_data.iloc[:,j].mean()\n",
    "    return pd.Series(means, numeric_data.columns)"
   ]
  },
  {
   "cell_type": "code",
   "execution_count": 24,
   "id": "12ff0292",
   "metadata": {},
   "outputs": [
    {
     "name": "stdout",
     "output_type": "stream",
     "text": [
      "(6000, 13)\n"
     ]
    },
    {
     "data": {
      "text/html": [
       "<div>\n",
       "<style scoped>\n",
       "    .dataframe tbody tr th:only-of-type {\n",
       "        vertical-align: middle;\n",
       "    }\n",
       "\n",
       "    .dataframe tbody tr th {\n",
       "        vertical-align: top;\n",
       "    }\n",
       "\n",
       "    .dataframe thead th {\n",
       "        text-align: right;\n",
       "    }\n",
       "</style>\n",
       "<table border=\"1\" class=\"dataframe\">\n",
       "  <thead>\n",
       "    <tr style=\"text-align: right;\">\n",
       "      <th></th>\n",
       "      <th>RFCD.Percentage.1</th>\n",
       "      <th>RFCD.Percentage.2</th>\n",
       "      <th>RFCD.Percentage.3</th>\n",
       "      <th>RFCD.Percentage.4</th>\n",
       "      <th>RFCD.Percentage.5</th>\n",
       "      <th>SEO.Percentage.1</th>\n",
       "      <th>SEO.Percentage.2</th>\n",
       "      <th>SEO.Percentage.3</th>\n",
       "      <th>SEO.Percentage.4</th>\n",
       "      <th>SEO.Percentage.5</th>\n",
       "      <th>Year.of.Birth.1</th>\n",
       "      <th>Number.of.Successful.Grant.1</th>\n",
       "      <th>Number.of.Unsuccessful.Grant.1</th>\n",
       "    </tr>\n",
       "  </thead>\n",
       "  <tbody>\n",
       "    <tr>\n",
       "      <th>906</th>\n",
       "      <td>40.000000</td>\n",
       "      <td>30.000000</td>\n",
       "      <td>30.000000</td>\n",
       "      <td>0.000000</td>\n",
       "      <td>0.000000</td>\n",
       "      <td>50.00000</td>\n",
       "      <td>30.00000</td>\n",
       "      <td>20.000000</td>\n",
       "      <td>0.000000</td>\n",
       "      <td>0.000000</td>\n",
       "      <td>1970.0</td>\n",
       "      <td>6.0</td>\n",
       "      <td>5.0</td>\n",
       "    </tr>\n",
       "    <tr>\n",
       "      <th>4224</th>\n",
       "      <td>50.000000</td>\n",
       "      <td>50.000000</td>\n",
       "      <td>0.000000</td>\n",
       "      <td>0.000000</td>\n",
       "      <td>0.000000</td>\n",
       "      <td>100.00000</td>\n",
       "      <td>0.00000</td>\n",
       "      <td>0.000000</td>\n",
       "      <td>0.000000</td>\n",
       "      <td>0.000000</td>\n",
       "      <td>1965.0</td>\n",
       "      <td>3.0</td>\n",
       "      <td>2.0</td>\n",
       "    </tr>\n",
       "    <tr>\n",
       "      <th>4257</th>\n",
       "      <td>100.000000</td>\n",
       "      <td>0.000000</td>\n",
       "      <td>0.000000</td>\n",
       "      <td>0.000000</td>\n",
       "      <td>0.000000</td>\n",
       "      <td>40.00000</td>\n",
       "      <td>30.00000</td>\n",
       "      <td>10.000000</td>\n",
       "      <td>10.000000</td>\n",
       "      <td>10.000000</td>\n",
       "      <td>1955.0</td>\n",
       "      <td>1.0</td>\n",
       "      <td>3.0</td>\n",
       "    </tr>\n",
       "    <tr>\n",
       "      <th>5248</th>\n",
       "      <td>100.000000</td>\n",
       "      <td>0.000000</td>\n",
       "      <td>0.000000</td>\n",
       "      <td>0.000000</td>\n",
       "      <td>0.000000</td>\n",
       "      <td>50.00000</td>\n",
       "      <td>25.00000</td>\n",
       "      <td>25.000000</td>\n",
       "      <td>0.000000</td>\n",
       "      <td>0.000000</td>\n",
       "      <td>1970.0</td>\n",
       "      <td>1.0</td>\n",
       "      <td>5.0</td>\n",
       "    </tr>\n",
       "    <tr>\n",
       "      <th>3632</th>\n",
       "      <td>74.832348</td>\n",
       "      <td>17.677593</td>\n",
       "      <td>6.933011</td>\n",
       "      <td>0.437937</td>\n",
       "      <td>0.119112</td>\n",
       "      <td>71.48324</td>\n",
       "      <td>20.64688</td>\n",
       "      <td>6.926704</td>\n",
       "      <td>0.730804</td>\n",
       "      <td>0.212192</td>\n",
       "      <td>1975.0</td>\n",
       "      <td>1.0</td>\n",
       "      <td>0.0</td>\n",
       "    </tr>\n",
       "  </tbody>\n",
       "</table>\n",
       "</div>"
      ],
      "text/plain": [
       "      RFCD.Percentage.1  RFCD.Percentage.2  RFCD.Percentage.3  \\\n",
       "906           40.000000          30.000000          30.000000   \n",
       "4224          50.000000          50.000000           0.000000   \n",
       "4257         100.000000           0.000000           0.000000   \n",
       "5248         100.000000           0.000000           0.000000   \n",
       "3632          74.832348          17.677593           6.933011   \n",
       "\n",
       "      RFCD.Percentage.4  RFCD.Percentage.5  SEO.Percentage.1  \\\n",
       "906            0.000000           0.000000          50.00000   \n",
       "4224           0.000000           0.000000         100.00000   \n",
       "4257           0.000000           0.000000          40.00000   \n",
       "5248           0.000000           0.000000          50.00000   \n",
       "3632           0.437937           0.119112          71.48324   \n",
       "\n",
       "      SEO.Percentage.2  SEO.Percentage.3  SEO.Percentage.4  SEO.Percentage.5  \\\n",
       "906           30.00000         20.000000          0.000000          0.000000   \n",
       "4224           0.00000          0.000000          0.000000          0.000000   \n",
       "4257          30.00000         10.000000         10.000000         10.000000   \n",
       "5248          25.00000         25.000000          0.000000          0.000000   \n",
       "3632          20.64688          6.926704          0.730804          0.212192   \n",
       "\n",
       "      Year.of.Birth.1  Number.of.Successful.Grant.1  \\\n",
       "906            1970.0                           6.0   \n",
       "4224           1965.0                           3.0   \n",
       "4257           1955.0                           1.0   \n",
       "5248           1970.0                           1.0   \n",
       "3632           1975.0                           1.0   \n",
       "\n",
       "      Number.of.Unsuccessful.Grant.1  \n",
       "906                              5.0  \n",
       "4224                             2.0  \n",
       "4257                             3.0  \n",
       "5248                             5.0  \n",
       "3632                             0.0  "
      ]
     },
     "execution_count": 24,
     "metadata": {},
     "output_type": "execute_result"
    }
   ],
   "source": [
    "#Заполнение срденим значением по столбцу пропущенных вещественных признаков\n",
    "X_real_mean = X[numeric_cols].fillna(value=calculate_means(X[numeric_cols]))\n",
    "print(X_real_mean.shape)\n",
    "X_real_mean.sample(5)"
   ]
  },
  {
   "cell_type": "code",
   "execution_count": 25,
   "id": "d9cdf036",
   "metadata": {},
   "outputs": [
    {
     "name": "stdout",
     "output_type": "stream",
     "text": [
      "(6000, 25)\n"
     ]
    },
    {
     "data": {
      "text/html": [
       "<div>\n",
       "<style scoped>\n",
       "    .dataframe tbody tr th:only-of-type {\n",
       "        vertical-align: middle;\n",
       "    }\n",
       "\n",
       "    .dataframe tbody tr th {\n",
       "        vertical-align: top;\n",
       "    }\n",
       "\n",
       "    .dataframe thead th {\n",
       "        text-align: right;\n",
       "    }\n",
       "</style>\n",
       "<table border=\"1\" class=\"dataframe\">\n",
       "  <thead>\n",
       "    <tr style=\"text-align: right;\">\n",
       "      <th></th>\n",
       "      <th>RFCD.Code.1</th>\n",
       "      <th>SEO.Code.2</th>\n",
       "      <th>Person.ID.1</th>\n",
       "      <th>RFCD.Code.5</th>\n",
       "      <th>Faculty.No..1</th>\n",
       "      <th>RFCD.Code.2</th>\n",
       "      <th>Role.1</th>\n",
       "      <th>Home.Language.1</th>\n",
       "      <th>SEO.Code.3</th>\n",
       "      <th>SEO.Code.5</th>\n",
       "      <th>...</th>\n",
       "      <th>C.1</th>\n",
       "      <th>No..of.Years.in.Uni.at.Time.of.Grant.1</th>\n",
       "      <th>Country.of.Birth.1</th>\n",
       "      <th>A.1</th>\n",
       "      <th>Contract.Value.Band...see.note.A</th>\n",
       "      <th>RFCD.Code.3</th>\n",
       "      <th>SEO.Code.1</th>\n",
       "      <th>Grant.Category.Code</th>\n",
       "      <th>RFCD.Code.4</th>\n",
       "      <th>Dept.No..1</th>\n",
       "    </tr>\n",
       "  </thead>\n",
       "  <tbody>\n",
       "    <tr>\n",
       "      <th>5302</th>\n",
       "      <td>440104.0</td>\n",
       "      <td>750404.0</td>\n",
       "      <td>43597.0</td>\n",
       "      <td>0.0</td>\n",
       "      <td>7.0</td>\n",
       "      <td>440109.0</td>\n",
       "      <td>CHIEF_INVESTIGATOR</td>\n",
       "      <td>NaN</td>\n",
       "      <td>0.0</td>\n",
       "      <td>0.0</td>\n",
       "      <td>...</td>\n",
       "      <td>5.0</td>\n",
       "      <td>Less than 0</td>\n",
       "      <td>South Africa</td>\n",
       "      <td>18.0</td>\n",
       "      <td>C</td>\n",
       "      <td>0.0</td>\n",
       "      <td>750403.0</td>\n",
       "      <td>10A</td>\n",
       "      <td>0.0</td>\n",
       "      <td>803.0</td>\n",
       "    </tr>\n",
       "    <tr>\n",
       "      <th>1447</th>\n",
       "      <td>300204.0</td>\n",
       "      <td>0.0</td>\n",
       "      <td>12917.0</td>\n",
       "      <td>0.0</td>\n",
       "      <td>1.0</td>\n",
       "      <td>0.0</td>\n",
       "      <td>PRINCIPAL_SUPERVISOR</td>\n",
       "      <td>NaN</td>\n",
       "      <td>0.0</td>\n",
       "      <td>0.0</td>\n",
       "      <td>...</td>\n",
       "      <td>0.0</td>\n",
       "      <td>Less than 0</td>\n",
       "      <td>Australia</td>\n",
       "      <td>4.0</td>\n",
       "      <td>A</td>\n",
       "      <td>0.0</td>\n",
       "      <td>620105.0</td>\n",
       "      <td>10A</td>\n",
       "      <td>0.0</td>\n",
       "      <td>1038.0</td>\n",
       "    </tr>\n",
       "    <tr>\n",
       "      <th>469</th>\n",
       "      <td>250302.0</td>\n",
       "      <td>730106.0</td>\n",
       "      <td>71127.0</td>\n",
       "      <td>270101.0</td>\n",
       "      <td>25.0</td>\n",
       "      <td>249901.0</td>\n",
       "      <td>CHIEF_INVESTIGATOR</td>\n",
       "      <td>NaN</td>\n",
       "      <td>740301.0</td>\n",
       "      <td>0.0</td>\n",
       "      <td>...</td>\n",
       "      <td>0.0</td>\n",
       "      <td>Less than 0</td>\n",
       "      <td>Australia</td>\n",
       "      <td>0.0</td>\n",
       "      <td>A</td>\n",
       "      <td>250502.0</td>\n",
       "      <td>780105.0</td>\n",
       "      <td>50A</td>\n",
       "      <td>270199.0</td>\n",
       "      <td>2603.0</td>\n",
       "    </tr>\n",
       "    <tr>\n",
       "      <th>429</th>\n",
       "      <td>291104.0</td>\n",
       "      <td>0.0</td>\n",
       "      <td>125287.0</td>\n",
       "      <td>0.0</td>\n",
       "      <td>19.0</td>\n",
       "      <td>340201.0</td>\n",
       "      <td>CHIEF_INVESTIGATOR</td>\n",
       "      <td>NaN</td>\n",
       "      <td>0.0</td>\n",
       "      <td>0.0</td>\n",
       "      <td>...</td>\n",
       "      <td>0.0</td>\n",
       "      <td>&gt;=0 to 5</td>\n",
       "      <td>Australia</td>\n",
       "      <td>0.0</td>\n",
       "      <td>G</td>\n",
       "      <td>300902.0</td>\n",
       "      <td>770502.0</td>\n",
       "      <td>30B</td>\n",
       "      <td>0.0</td>\n",
       "      <td>2103.0</td>\n",
       "    </tr>\n",
       "    <tr>\n",
       "      <th>627</th>\n",
       "      <td>321017.0</td>\n",
       "      <td>730204.0</td>\n",
       "      <td>1862.0</td>\n",
       "      <td>0.0</td>\n",
       "      <td>25.0</td>\n",
       "      <td>0.0</td>\n",
       "      <td>CHIEF_INVESTIGATOR</td>\n",
       "      <td>NaN</td>\n",
       "      <td>0.0</td>\n",
       "      <td>0.0</td>\n",
       "      <td>...</td>\n",
       "      <td>26.0</td>\n",
       "      <td>&gt;10 to 15</td>\n",
       "      <td>Great Britain</td>\n",
       "      <td>4.0</td>\n",
       "      <td>D</td>\n",
       "      <td>0.0</td>\n",
       "      <td>730104.0</td>\n",
       "      <td>10A</td>\n",
       "      <td>0.0</td>\n",
       "      <td>2853.0</td>\n",
       "    </tr>\n",
       "  </tbody>\n",
       "</table>\n",
       "<p>5 rows × 25 columns</p>\n",
       "</div>"
      ],
      "text/plain": [
       "     RFCD.Code.1 SEO.Code.2 Person.ID.1 RFCD.Code.5 Faculty.No..1 RFCD.Code.2  \\\n",
       "5302    440104.0   750404.0     43597.0         0.0           7.0    440109.0   \n",
       "1447    300204.0        0.0     12917.0         0.0           1.0         0.0   \n",
       "469     250302.0   730106.0     71127.0    270101.0          25.0    249901.0   \n",
       "429     291104.0        0.0    125287.0         0.0          19.0    340201.0   \n",
       "627     321017.0   730204.0      1862.0         0.0          25.0         0.0   \n",
       "\n",
       "                    Role.1 Home.Language.1 SEO.Code.3 SEO.Code.5  ...   C.1  \\\n",
       "5302    CHIEF_INVESTIGATOR             NaN        0.0        0.0  ...   5.0   \n",
       "1447  PRINCIPAL_SUPERVISOR             NaN        0.0        0.0  ...   0.0   \n",
       "469     CHIEF_INVESTIGATOR             NaN   740301.0        0.0  ...   0.0   \n",
       "429     CHIEF_INVESTIGATOR             NaN        0.0        0.0  ...   0.0   \n",
       "627     CHIEF_INVESTIGATOR             NaN        0.0        0.0  ...  26.0   \n",
       "\n",
       "     No..of.Years.in.Uni.at.Time.of.Grant.1 Country.of.Birth.1   A.1  \\\n",
       "5302                            Less than 0       South Africa  18.0   \n",
       "1447                            Less than 0          Australia   4.0   \n",
       "469                             Less than 0          Australia   0.0   \n",
       "429                                >=0 to 5          Australia   0.0   \n",
       "627                               >10 to 15      Great Britain   4.0   \n",
       "\n",
       "     Contract.Value.Band...see.note.A RFCD.Code.3 SEO.Code.1  \\\n",
       "5302                               C          0.0   750403.0   \n",
       "1447                               A          0.0   620105.0   \n",
       "469                                A     250502.0   780105.0   \n",
       "429                                G     300902.0   770502.0   \n",
       "627                                D          0.0   730104.0   \n",
       "\n",
       "     Grant.Category.Code RFCD.Code.4 Dept.No..1  \n",
       "5302                 10A         0.0      803.0  \n",
       "1447                 10A         0.0     1038.0  \n",
       "469                  50A    270199.0     2603.0  \n",
       "429                  30B         0.0     2103.0  \n",
       "627                  10A         0.0     2853.0  \n",
       "\n",
       "[5 rows x 25 columns]"
      ]
     },
     "execution_count": 25,
     "metadata": {},
     "output_type": "execute_result"
    }
   ],
   "source": [
    "#Преобразуем в столбцах с категориальными признаками NaN в строчный тип\n",
    "X_cat = X[categorical_cols].fillna('NaN').astype(str)\n",
    "print(X_cat.shape)\n",
    "X_cat.sample(5)"
   ]
  },
  {
   "cell_type": "markdown",
   "id": "a4388917",
   "metadata": {},
   "source": [
    "### Преобразование категориальных признаков."
   ]
  },
  {
   "cell_type": "markdown",
   "id": "13f12b29",
   "metadata": {},
   "source": [
    "Для использования модели регрессии требуется преобразовать категориальные признаки в вещественные.Основной способ преоборазования категориальных признаков в вещественные: one-hot encoding. Его идея заключается в том, что мы преобразуем категориальный признак при помощи бинарного кода: каждой категории ставим в соответствие набор из нулей и единиц.\n",
    "\n",
    "Посмотрим, как данный метод работает на простом наборе данных."
   ]
  },
  {
   "cell_type": "code",
   "execution_count": 26,
   "id": "f967490b",
   "metadata": {},
   "outputs": [
    {
     "name": "stdout",
     "output_type": "stream",
     "text": [
      "Исходные данные:\n",
      "\n",
      "      sex nationality\n",
      "0    male    American\n",
      "1  female    European\n",
      "2    male       Asian\n",
      "3  female    European\n",
      "\n",
      "Закодированные данные:\n",
      "\n",
      "[[1. 0. 0. 0. 1.]\n",
      " [0. 0. 1. 1. 0.]\n",
      " [0. 1. 0. 0. 1.]\n",
      " [0. 0. 1. 1. 0.]]\n"
     ]
    }
   ],
   "source": [
    "from sklearn.linear_model import LogisticRegression as LR\n",
    "from sklearn.feature_extraction import DictVectorizer as DV\n",
    "\n",
    "categorial_data = pd.DataFrame({'sex': ['male', 'female', 'male', 'female'], \n",
    "                                'nationality': ['American', 'European', 'Asian', 'European']})\n",
    "print('Исходные данные:\\n')\n",
    "print(categorial_data)\n",
    "encoder = DV(sparse = False)\n",
    "encoded_data = encoder.fit_transform(categorial_data.T.to_dict().values())\n",
    "print('\\nЗакодированные данные:\\n')\n",
    "print(encoded_data)"
   ]
  },
  {
   "cell_type": "markdown",
   "id": "641baea6",
   "metadata": {},
   "source": [
    "Как видно, в первые три колонки оказалась закодированна информация о стране, а во вторые две - о поле. При этом для совпадающих элементов выборки строки будут полностью совпадать. Также из примера видно, что кодирование признаков сильно увеличивает их количество, но полностью сохраняет информацию, в том числе о наличии пропущенных значений (их наличие просто становится одним из бинарных признаков в преобразованных данных).\n",
    "\n",
    "Теперь применим one-hot encoding к категориальным признакам из исходного датасета. Обратите внимание на общий для всех методов преобработки данных интерфейс. Функция\n",
    "\n",
    "    encoder.fit_transform(X)\n",
    "    \n",
    "позволяет вычислить необходимые параметры преобразования, впоследствии к новым данным можно уже применять функцию\n",
    "\n",
    "    encoder.transform(X)\n",
    "    \n",
    "Очень важно применять одинаковое преобразование как к обучающим, так и тестовым данным, потому что в противном случае вы получите непредсказуемые, и, скорее всего, плохие результаты. В частности, если вы отдельно закодируете обучающую и тестовую выборку, то получите вообще говоря разные коды для одних и тех же признаков, и ваше решение работать не будет.\n",
    "\n",
    "Также параметры многих преобразований нельзя вычислять одновременно на данных из обучения и теста, потому что иначе подсчитанные на тесте метрики качества будут давать смещённые оценки на качество работы алгоритма. Кодирование категориальных признаков не считает на обучающей выборке никаких параметров, поэтому его можно применять сразу к всему датасету."
   ]
  },
  {
   "cell_type": "code",
   "execution_count": 27,
   "id": "8305aa85",
   "metadata": {},
   "outputs": [],
   "source": [
    "encoder = DV(sparse = False)\n",
    "X_cat_oh = encoder.fit_transform(X_cat.T.to_dict().values())"
   ]
  },
  {
   "cell_type": "markdown",
   "id": "e303b000",
   "metadata": {},
   "source": [
    "Для построения метрики качества по результату обучения требуется разделить исходный датасет на обучающую и тестовую выборки."
   ]
  },
  {
   "cell_type": "code",
   "execution_count": 28,
   "id": "4621ce1c",
   "metadata": {},
   "outputs": [
    {
     "name": "stdout",
     "output_type": "stream",
     "text": [
      "(4200,)\n",
      "(1800,)\n",
      "(4200, 13)\n",
      "(1800, 13)\n",
      "(4200, 5593)\n",
      "(1800, 5593)\n"
     ]
    }
   ],
   "source": [
    "from sklearn.model_selection import train_test_split\n",
    "\n",
    "(X_train_real_zeros, \n",
    " X_test_real_zeros, \n",
    " y_train, y_test) = train_test_split(X_real_zeros, y, \n",
    "                                     test_size=0.3, \n",
    "                                     random_state=0)\n",
    "(X_train_real_mean, \n",
    " X_test_real_mean) = train_test_split(X_real_mean, \n",
    "                                      test_size=0.3, \n",
    "                                      random_state=0)\n",
    "(X_train_cat_oh,\n",
    " X_test_cat_oh) = train_test_split(X_cat_oh, \n",
    "                                   test_size=0.3, \n",
    "                                   random_state=0)\n",
    "\n",
    "print(y_train.shape)\n",
    "print(y_test.shape)\n",
    "print(X_train_real_zeros.shape)\n",
    "print(X_test_real_zeros.shape)\n",
    "print(X_train_cat_oh.shape)\n",
    "print(X_test_cat_oh.shape)"
   ]
  },
  {
   "cell_type": "markdown",
   "id": "c35e4a0b",
   "metadata": {},
   "source": [
    "Итак, мы получили первые наборы данных, для которых выполнены оба ограничения логистической регрессии на входные данные. Обучим на них регрессию, используя имеющийся в библиотеке sklearn функционал по подбору гиперпараметров модели\n",
    "    \n",
    "    optimizer = GridSearchCV(estimator, param_grid)\n",
    "\n",
    "где:\n",
    "- estimator - обучающий алгоритм, для которого будет производиться подбор параметров\n",
    "- param_grid - словарь параметров, ключами которого являются строки-названия, которые передаются алгоритму estimator, а значения - набор параметров для перебора\n",
    "\n",
    "Данный класс выполняет кросс-валидацию обучающей выборки для каждого набора параметров и находит те, на которых алгоритм работает лучше всего. Этот метод позволяет настраивать гиперпараметры по обучающей выборке, избегая переобучения.\n",
    "\n",
    "- scoring - функционал качества, максимум которого ищется кросс валидацией, по умолчанию используется функция score() класса esimator\n",
    "- n_jobs - позволяет ускорить кросс-валидацию, выполняя её параллельно, число определяет количество одновременно запущенных задач\n",
    "- cv - количество фолдов, на которые разбивается выборка при кросс-валидации\n",
    "\n",
    "После инициализации класса GridSearchCV, процесс подбора параметров запускается следующим методом:\n",
    "\n",
    "    optimizer.fit(X, y)\n",
    "    \n",
    "На выходе для получения предсказаний можно пользоваться функцией\n",
    "\n",
    "    optimizer.predict(X)\n",
    "    \n",
    "для меток или\n",
    "\n",
    "    optimizer.predict_proba(X)\n",
    "    \n",
    "для вероятностей (в случае использования логистической регрессии).\n",
    "    \n",
    "Также можно напрямую получить оптимальный класс estimator и оптимальные параметры, так как они является атрибутами класса GridSearchCV:\n",
    "- best\\_estimator\\_ - лучший алгоритм\n",
    "- best\\_params\\_ - лучший набор параметров"
   ]
  },
  {
   "cell_type": "markdown",
   "id": "de4d91fb",
   "metadata": {},
   "source": [
    "### Сравнение способов заполнения вещественных пропущенных значений."
   ]
  },
  {
   "cell_type": "code",
   "execution_count": 29,
   "id": "6f7efa3c",
   "metadata": {},
   "outputs": [],
   "source": [
    "from sklearn.linear_model import LogisticRegression\n",
    "from sklearn.model_selection import GridSearchCV, StratifiedKFold\n",
    "from sklearn.metrics import roc_auc_score\n",
    "\n",
    "\n",
    "def plot_scores(optimizer):\n",
    "    scores=[]\n",
    "    for i in range(len(optimizer.cv_results_['params'])):\n",
    "        scores.append([optimizer.cv_results_['params'][i]['C'], \n",
    "                optimizer.cv_results_['mean_test_score'][i],\n",
    "                optimizer.cv_results_['std_test_score'][i]])\n",
    "    scores = np.array(scores)\n",
    "    plt.semilogx(scores[:,0], scores[:,1])\n",
    "    plt.fill_between(scores[:,0], scores[:,1]-scores[:,2], \n",
    "                                  scores[:,1]+scores[:,2], alpha=0.3)\n",
    "    plt.show()\n",
    "    \n",
    "    \n",
    "def write_answer_1(auc_1, auc_2):\n",
    "    auc = (auc_1 + auc_2)/2\n",
    "    with open(\"preprocessing_lr_answer1.txt\", \"w\") as fout:\n",
    "        fout.write(str(auc))"
   ]
  },
  {
   "cell_type": "code",
   "execution_count": 30,
   "id": "2c275bfd",
   "metadata": {},
   "outputs": [],
   "source": [
    "#Стак вещественных и категориальных признаков\n",
    "X_train_zeros = np.hstack( (X_train_real_zeros, X_train_cat_oh) )\n",
    "X_train_mean = np.hstack( (X_train_real_mean, X_train_cat_oh) )\n",
    "X_test_zeros = np.hstack( (X_test_real_zeros, X_test_cat_oh) )\n",
    "X_test_mean = np.hstack( (X_test_real_mean, X_test_cat_oh) )"
   ]
  },
  {
   "cell_type": "code",
   "execution_count": 31,
   "id": "7d330596",
   "metadata": {},
   "outputs": [],
   "source": [
    "#GridSearchCV parameters\n",
    "parameters_grid = {'C': [0.01, 0.05, 0.1, 0.5, 1, 5, 10]}\n",
    "cross_validation = StratifiedKFold(n_splits=4, shuffle=True, random_state = 0)\n",
    "estimator = LogisticRegression(solver='liblinear')"
   ]
  },
  {
   "cell_type": "code",
   "execution_count": 32,
   "id": "1d7bd826",
   "metadata": {},
   "outputs": [
    {
     "name": "stdout",
     "output_type": "stream",
     "text": [
      "Wall time: 10 s\n"
     ]
    },
    {
     "data": {
      "text/plain": [
       "GridSearchCV(cv=StratifiedKFold(n_splits=4, random_state=0, shuffle=True),\n",
       "             estimator=LogisticRegression(solver='liblinear'),\n",
       "             param_grid={'C': [0.01, 0.05, 0.1, 0.5, 1, 5, 10]})"
      ]
     },
     "execution_count": 32,
     "metadata": {},
     "output_type": "execute_result"
    }
   ],
   "source": [
    "%%time\n",
    "#GridSearchCV заполненный нулями\n",
    "optimizer_zeros = GridSearchCV(estimator, parameters_grid, cv=cross_validation)\n",
    "optimizer_zeros.fit(X_train_zeros, y_train)"
   ]
  },
  {
   "cell_type": "code",
   "execution_count": 34,
   "id": "933925e9",
   "metadata": {},
   "outputs": [
    {
     "name": "stdout",
     "output_type": "stream",
     "text": [
      "Wall time: 8.46 s\n"
     ]
    },
    {
     "data": {
      "text/plain": [
       "GridSearchCV(cv=StratifiedKFold(n_splits=4, random_state=0, shuffle=True),\n",
       "             estimator=LogisticRegression(solver='liblinear'),\n",
       "             param_grid={'C': [0.01, 0.05, 0.1, 0.5, 1, 5, 10]})"
      ]
     },
     "execution_count": 34,
     "metadata": {},
     "output_type": "execute_result"
    }
   ],
   "source": [
    "%%time\n",
    "#GridSearchCV заполненный средними\n",
    "optimizer_mean = GridSearchCV(estimator, parameters_grid, cv=cross_validation)\n",
    "optimizer_mean.fit(X_train_mean, y_train)"
   ]
  },
  {
   "cell_type": "code",
   "execution_count": 35,
   "id": "ba099863",
   "metadata": {},
   "outputs": [
    {
     "data": {
      "image/png": "[encoded data removed]",
      "text/plain": [
       "<Figure size 432x288 with 1 Axes>"
      ]
     },
     "metadata": {
      "needs_background": "light"
     },
     "output_type": "display_data"
    },
    {
     "data": {
      "image/png": "[encoded data removed]",
      "text/plain": [
       "<Figure size 432x288 with 1 Axes>"
      ]
     },
     "metadata": {
      "needs_background": "light"
     },
     "output_type": "display_data"
    }
   ],
   "source": [
    "plot_scores(optimizer_zeros)\n",
    "plot_scores(optimizer_mean)"
   ]
  },
  {
   "cell_type": "code",
   "execution_count": 36,
   "id": "7d9cdd73",
   "metadata": {},
   "outputs": [
    {
     "name": "stdout",
     "output_type": "stream",
     "text": [
      "Best parameter for GridSearchCV with zero fillna {'C': 0.1}\n",
      "roc_auc_score_zeros 0.8868126129894043\n",
      "Best parameter for GridSearchCV with mean fillna {'C': 0.1}\n",
      "roc_auc_score_mean 0.8879930854506152\n"
     ]
    }
   ],
   "source": [
    "#GridSearchCV c нулями\n",
    "print('Best parameter for GridSearchCV with zero fillna', optimizer_zeros.best_params_)\n",
    "roc_auc_score_zeros = roc_auc_score(y_test, optimizer_zeros.best_estimator_.predict_proba(X_test_zeros)[:, 1])\n",
    "print('roc_auc_score_zeros', roc_auc_score_zeros)\n",
    "#GridSearchCV with mean fillna\n",
    "print('Best parameter for GridSearchCV with mean fillna', optimizer_mean.best_params_)\n",
    "roc_auc_score_mean = roc_auc_score(y_test, optimizer_mean.best_estimator_.predict_proba(X_test_mean)[:, 1])\n",
    "print('roc_auc_score_mean', roc_auc_score_mean)\n",
    "\n",
    "write_answer_1(roc_auc_score_zeros, roc_auc_score_mean)"
   ]
  },
  {
   "cell_type": "markdown",
   "id": "77261c8e",
   "metadata": {},
   "source": [
    "Далее будем использовать модель, у которой пропуски заполнены нулями,\n",
    "так как её оценка лучше"
   ]
  },
  {
   "cell_type": "markdown",
   "id": "6a2a2392",
   "metadata": {},
   "source": [
    "### Масштабирование вещественных признаков."
   ]
  },
  {
   "cell_type": "markdown",
   "id": "729d0149",
   "metadata": {},
   "source": [
    "Попробуем как-то улучшить качество классификации. Для этого посмотрим на сами данные:"
   ]
  },
  {
   "cell_type": "code",
   "execution_count": 38,
   "id": "121b1d9e",
   "metadata": {},
   "outputs": [
    {
     "data": {
      "image/png": "[encoded data removed]",
      "text/plain": [
       "<Figure size 720x720 with 9 Axes>"
      ]
     },
     "metadata": {
      "needs_background": "light"
     },
     "output_type": "display_data"
    }
   ],
   "source": [
    "from pandas.plotting import scatter_matrix\n",
    "\n",
    "data_numeric = pd.DataFrame(X_train_real_zeros, columns=numeric_cols)\n",
    "list_cols = ['Number.of.Successful.Grant.1', 'SEO.Percentage.2', 'Year.of.Birth.1']\n",
    "scatter_matrix(data_numeric[list_cols], alpha=0.5, figsize=(10, 10))\n",
    "plt.show()"
   ]
  },
  {
   "cell_type": "markdown",
   "id": "f2d2e0d4",
   "metadata": {},
   "source": [
    "Как видно из графиков, разные признаки очень сильно отличаются друг от друга по модулю значений. В случае обычной регрессии это никак не влияет на качество обучаемой модели, т.к. у меньших по модулю признаков будут большие веса, но при использовании регуляризации, которая штрафует модель за большие веса, регрессия, как правило, начинает работать хуже.\n",
    "\n",
    "В таких случаях всегда рекомендуется делать стандартизацию (масштабирование) признаков, для того чтобы они меньше отличались друг друга по модулю, но при этом не нарушались никакие другие свойства признакового пространства. При этом даже если итоговое качество модели на тесте уменьшается, это повышает её интерпретабельность, потому что новые веса имеют смысл \"значимости\" данного признака для итоговой классификации.\n",
    "\n",
    "Стандартизация осуществляется посредством вычета из каждого признака среднего значения и нормировки на выборочное стандартное отклонение:\n",
    "\n",
    "$$ x^{scaled}_{id} = \\dfrac{x_{id} - \\mu_d}{\\sigma_d}, \\quad \\mu_d = \\frac{1}{N} \\sum_{i=1}^l x_{id}, \\quad \\sigma_d = \\sqrt{\\frac{1}{N-1} \\sum_{i=1}^l (x_{id} - \\mu_d)^2} $$"
   ]
  },
  {
   "cell_type": "markdown",
   "id": "e92c80ee",
   "metadata": {},
   "source": [
    "1. По аналогии с вызовом one-hot encoder примените масштабирование вещественных признаков для обучающих и тестовых выборок X_train_real_zeros и X_test_real_zeros, используя класс \n",
    "\n",
    "        StandardScaler\n",
    "   \n",
    "   и методы \n",
    "\n",
    "        StandardScaler.fit_transform(...)\n",
    "        StandardScaler.transform(...)"
   ]
  },
  {
   "cell_type": "code",
   "execution_count": 39,
   "id": "654ef861",
   "metadata": {},
   "outputs": [],
   "source": [
    "from sklearn.preprocessing import StandardScaler\n",
    "\n",
    "encoder = StandardScaler()\n",
    "\n",
    "X_train_real_scaled = encoder.fit_transform(X_train_real_zeros)\n",
    "X_test_real_scaled = encoder.fit_transform(X_test_real_zeros)"
   ]
  },
  {
   "cell_type": "markdown",
   "id": "c69bea1a",
   "metadata": {},
   "source": [
    "### Сравнение признаковых пространств."
   ]
  },
  {
   "cell_type": "markdown",
   "id": "f9c51e86",
   "metadata": {},
   "source": [
    "Построим такие же графики для преобразованных данных:"
   ]
  },
  {
   "cell_type": "code",
   "execution_count": 40,
   "id": "59af97a4",
   "metadata": {},
   "outputs": [
    {
     "data": {
      "image/png": "[encoded data removed]",
      "text/plain": [
       "<Figure size 720x720 with 9 Axes>"
      ]
     },
     "metadata": {
      "needs_background": "light"
     },
     "output_type": "display_data"
    }
   ],
   "source": [
    "data_numeric_scaled = pd.DataFrame(X_train_real_scaled, columns=numeric_cols)\n",
    "list_cols = ['Number.of.Successful.Grant.1', 'SEO.Percentage.2', 'Year.of.Birth.1']\n",
    "scatter_matrix(data_numeric_scaled[list_cols], alpha=0.5, figsize=(10, 10))\n",
    "plt.show()"
   ]
  },
  {
   "cell_type": "markdown",
   "id": "d5b56c2a",
   "metadata": {},
   "source": [
    "Как видно из графиков, мы не поменяли свойства признакового пространства: гистограммы распределений значений признаков, как и их scatter-plots, выглядят так же, как и до нормировки, но при этом все значения теперь находятся примерно в одном диапазоне, тем самым повышая интерпретабельность результатов, а также лучше сочетаясь с идеологией регуляризации."
   ]
  },
  {
   "cell_type": "markdown",
   "id": "9cef5f04",
   "metadata": {},
   "source": [
    "### Сравнение качества классификации до и после масштабирования вещественных признаков."
   ]
  },
  {
   "cell_type": "code",
   "execution_count": 41,
   "id": "2cd1a60e",
   "metadata": {},
   "outputs": [],
   "source": [
    "def write_answer_2(auc):\n",
    "    with open(\"preprocessing_lr_answer2.txt\", \"w\") as fout:\n",
    "        fout.write(str(auc))"
   ]
  },
  {
   "cell_type": "code",
   "execution_count": 42,
   "id": "651d5599",
   "metadata": {},
   "outputs": [],
   "source": [
    "#Стак вещественных и категориальных признаков\n",
    "X_train_scaled = np.hstack( (X_train_real_scaled, X_train_cat_oh) )\n",
    "X_test_scaled = np.hstack( (X_test_real_scaled, X_test_cat_oh) )"
   ]
  },
  {
   "cell_type": "code",
   "execution_count": 43,
   "id": "9d5917a3",
   "metadata": {},
   "outputs": [
    {
     "name": "stdout",
     "output_type": "stream",
     "text": [
      "Wall time: 5.88 s\n"
     ]
    },
    {
     "data": {
      "text/plain": [
       "GridSearchCV(cv=StratifiedKFold(n_splits=4, random_state=0, shuffle=True),\n",
       "             estimator=LogisticRegression(solver='liblinear'),\n",
       "             param_grid={'C': [0.01, 0.05, 0.1, 0.5, 1, 5, 10]})"
      ]
     },
     "execution_count": 43,
     "metadata": {},
     "output_type": "execute_result"
    }
   ],
   "source": [
    "%%time\n",
    "#GridSearchCV\n",
    "optimizer_zeros.fit(X_train_scaled, y_train)"
   ]
  },
  {
   "cell_type": "code",
   "execution_count": 44,
   "id": "4fcd7337",
   "metadata": {},
   "outputs": [
    {
     "name": "stdout",
     "output_type": "stream",
     "text": [
      "Best parameter for GridSearchCV with scaled num parameters {'C': 0.1}\n",
      "roc_auc_score 0.8864203595615175\n"
     ]
    }
   ],
   "source": [
    "print('Best parameter for GridSearchCV with scaled num parameters', optimizer_zeros.best_params_)\n",
    "roc_auc_score_scaled = roc_auc_score(y_test, optimizer_zeros.best_estimator_.predict_proba(X_test_scaled)[:, 1])\n",
    "print('roc_auc_score', roc_auc_score_scaled)\n",
    "\n",
    "write_answer_2(roc_auc_score_scaled)"
   ]
  },
  {
   "cell_type": "markdown",
   "id": "9ab3ec3a",
   "metadata": {},
   "source": [
    "### Балансировка классов"
   ]
  },
  {
   "cell_type": "markdown",
   "id": "fdb748fe",
   "metadata": {},
   "source": [
    "Алгоритмы классификации могут быть очень чувствительны к несбалансированным классам. Рассмотрим пример с выборками, сэмплированными из двух гауссиан. Их мат. ожидания и матрицы ковариации заданы так, что истинная разделяющая поверхность должна проходить параллельно оси x. Поместим в обучающую выборку 20 объектов, сэмплированных из 1-й гауссианы, и 10 объектов из 2-й. После этого обучим на них линейную регрессию, и построим на графиках объекты и области классификации."
   ]
  },
  {
   "cell_type": "code",
   "execution_count": 47,
   "id": "2a9dd2ad",
   "metadata": {},
   "outputs": [
    {
     "data": {
      "image/png": "[encoded data removed]",
      "text/plain": [
       "<Figure size 432x288 with 1 Axes>"
      ]
     },
     "metadata": {
      "needs_background": "light"
     },
     "output_type": "display_data"
    },
    {
     "name": "stdout",
     "output_type": "stream",
     "text": [
      "AUC: 0.911667\n"
     ]
    },
    {
     "data": {
      "image/png": "[encoded data removed]",
      "text/plain": [
       "<Figure size 432x288 with 1 Axes>"
      ]
     },
     "metadata": {
      "needs_background": "light"
     },
     "output_type": "display_data"
    },
    {
     "name": "stdout",
     "output_type": "stream",
     "text": [
      "AUC: 0.906667\n"
     ]
    }
   ],
   "source": [
    "np.random.seed(0)\n",
    "\"\"\"Сэмплируем данные из первой гауссианы\"\"\"\n",
    "data_0 = np.random.multivariate_normal([0,0], [[0.5,0],[0,0.5]], size=40)\n",
    "\"\"\"И из второй\"\"\"\n",
    "data_1 = np.random.multivariate_normal([0,1], [[0.5,0],[0,0.5]], size=40)\n",
    "\"\"\"На обучение берём 20 объектов из первого класса и 10 из второго\"\"\"\n",
    "example_data_train = np.vstack([data_0[:20,:], data_1[:10,:]])\n",
    "example_labels_train = np.concatenate([np.zeros((20)), np.ones((10))])\n",
    "\"\"\"На тест - 20 из первого и 30 из второго\"\"\"\n",
    "example_data_test = np.vstack([data_0[20:,:], data_1[10:,:]])\n",
    "example_labels_test = np.concatenate([np.zeros((20)), np.ones((30))])\n",
    "\"\"\"Задаём координатную сетку, на которой будем вычислять область классификации\"\"\"\n",
    "xx, yy = np.meshgrid(np.arange(-3, 3, 0.02), np.arange(-3, 3, 0.02))\n",
    "\"\"\"Обучаем регрессию без балансировки по классам\"\"\"\n",
    "optimizer = GridSearchCV(LogisticRegression(), parameters_grid, cv=cross_validation, n_jobs=-1)\n",
    "optimizer.fit(example_data_train, example_labels_train)\n",
    "\"\"\"Строим предсказания регрессии для сетки\"\"\"\n",
    "Z = optimizer.predict(np.c_[xx.ravel(), yy.ravel()]).reshape(xx.shape)\n",
    "plt.pcolormesh(xx, yy, Z, cmap=plt.cm.Pastel2)\n",
    "plt.scatter(data_0[:,0], data_0[:,1], color='red')\n",
    "plt.scatter(data_1[:,0], data_1[:,1], color='blue')\n",
    "\"\"\"Считаем AUC\"\"\"\n",
    "auc_wo_class_weights = roc_auc_score(example_labels_test, optimizer.predict_proba(example_data_test)[:,1])\n",
    "plt.title('Without class weights')\n",
    "plt.show()\n",
    "print('AUC: %f'%auc_wo_class_weights)\n",
    "\"\"\"Для второй регрессии в LogisticRegression передаём параметр class_weight='balanced'\"\"\"\n",
    "optimizer = GridSearchCV(LogisticRegression(class_weight='balanced'), parameters_grid, cv=cross_validation, n_jobs=-1)\n",
    "optimizer.fit(example_data_train, example_labels_train)\n",
    "Z = optimizer.predict(np.c_[xx.ravel(), yy.ravel()]).reshape(xx.shape)\n",
    "plt.pcolormesh(xx, yy, Z, cmap=plt.cm.Pastel2)\n",
    "plt.scatter(data_0[:,0], data_0[:,1], color='red')\n",
    "plt.scatter(data_1[:,0], data_1[:,1], color='blue')\n",
    "auc_w_class_weights = roc_auc_score(example_labels_test, optimizer.predict_proba(example_data_test)[:,1])\n",
    "plt.title('With class weights')\n",
    "plt.show()\n",
    "print('AUC: %f'%auc_w_class_weights)"
   ]
  },
  {
   "cell_type": "markdown",
   "id": "5ead0d6e",
   "metadata": {},
   "source": [
    "Как видно, во втором случае классификатор находит разделяющую поверхность, которая ближе к истинной, т.е. меньше переобучается. Поэтому на сбалансированность классов в обучающей выборке всегда следует обращать внимание.\n",
    "\n",
    "Посмотрим, сбалансированны ли классы в нашей обучающей выборке:"
   ]
  },
  {
   "cell_type": "code",
   "execution_count": 48,
   "id": "dbcd8078",
   "metadata": {},
   "outputs": [
    {
     "name": "stdout",
     "output_type": "stream",
     "text": [
      "2316\n",
      "1884\n"
     ]
    }
   ],
   "source": [
    "print(np.sum(y_train==0))\n",
    "print(np.sum(y_train==1))"
   ]
  },
  {
   "cell_type": "markdown",
   "id": "e5aab7cb",
   "metadata": {},
   "source": [
    "Видно, что нет.\n",
    "\n",
    "Исправить ситуацию можно разными способами:\n",
    "- давать объектам миноритарного класса больший вес при обучении классификатора (рассмотрен в примере выше)\n",
    "- досэмплировать объекты миноритарного класса, пока число объектов в обоих классах не сравняется"
   ]
  },
  {
   "cell_type": "markdown",
   "id": "33ebaa1c",
   "metadata": {},
   "source": [
    "### Балансировка классов."
   ]
  },
  {
   "cell_type": "code",
   "execution_count": 49,
   "id": "ded6de37",
   "metadata": {},
   "outputs": [],
   "source": [
    "def write_answer_3(auc_1, auc_2):\n",
    "    auc = (auc_1 + auc_2) / 2\n",
    "    with open(\"preprocessing_lr_answer3.txt\", \"w\") as fout:\n",
    "        fout.write(str(auc))"
   ]
  },
  {
   "cell_type": "code",
   "execution_count": 50,
   "id": "03d24be9",
   "metadata": {},
   "outputs": [],
   "source": [
    "#GridSearchCV parameters\n",
    "param_grid = {'C': [0.01, 0.05, 0.1, 0.5, 1, 5, 10]}\n",
    "cross_validation = StratifiedKFold(n_splits=4, shuffle=True, random_state = 0)\n",
    "estimator = LogisticRegression(solver='liblinear', class_weight='balanced')"
   ]
  },
  {
   "cell_type": "code",
   "execution_count": 51,
   "id": "97484e47",
   "metadata": {},
   "outputs": [
    {
     "name": "stdout",
     "output_type": "stream",
     "text": [
      "Wall time: 6.23 s\n"
     ]
    },
    {
     "data": {
      "text/plain": [
       "GridSearchCV(cv=StratifiedKFold(n_splits=4, random_state=0, shuffle=True),\n",
       "             estimator=LogisticRegression(class_weight='balanced',\n",
       "                                          solver='liblinear'),\n",
       "             param_grid={'C': [0.01, 0.05, 0.1, 0.5, 1, 5, 10]})"
      ]
     },
     "execution_count": 51,
     "metadata": {},
     "output_type": "execute_result"
    }
   ],
   "source": [
    "%%time\n",
    "#GridSearchCV with balanced weights\n",
    "optimizer = GridSearchCV(estimator, param_grid, cv=cross_validation)\n",
    "optimizer.fit(X_train_scaled, y_train)"
   ]
  },
  {
   "cell_type": "code",
   "execution_count": 52,
   "id": "5618b00d",
   "metadata": {},
   "outputs": [
    {
     "name": "stdout",
     "output_type": "stream",
     "text": [
      "Best parameter for GridSearchCV with balanced weights {'C': 0.05}\n",
      "roc_auc_score 0.8846422265145995\n"
     ]
    }
   ],
   "source": [
    "print('Best parameter for GridSearchCV with balanced weights', optimizer.best_params_)\n",
    "roc_auc_score_bal1 = roc_auc_score(y_test, optimizer.best_estimator_.predict_proba(X_test_scaled)[:, 1])\n",
    "print('roc_auc_score', roc_auc_score_bal1)"
   ]
  },
  {
   "cell_type": "code",
   "execution_count": 112,
   "id": "e35f6845",
   "metadata": {},
   "outputs": [
    {
     "name": "stdout",
     "output_type": "stream",
     "text": [
      "(432,)\n",
      "(4200,)\n",
      "(4632, 5606) (4200, 5606)\n",
      "(4632,) (4200,)\n"
     ]
    }
   ],
   "source": [
    "# Генерация новых индексов для класса 1\n",
    "y_train_to_add = []\n",
    "np.random.seed(0)\n",
    "num_of_indices = np.sum(y_train==0) - np.sum(y_train==1)\n",
    "indices_to_add = np.random.randint(np.sum(y_train==1)+1, size=num_of_indices)\n",
    "X_train_to_add = X_train_scaled[y_train == 1,:][indices_to_add,:]\n",
    "\n",
    "for k in indices_to_add:\n",
    "    flag = True\n",
    "    while flag:\n",
    "        try:\n",
    "            y_train_to_add.append(y_train[k])\n",
    "            flag = False\n",
    "        except KeyError:\n",
    "            flag = True\n",
    "        k += 1\n",
    "\n",
    "y_train_to_add = pd.Series(y_train_to_add)\n",
    "print(y_train_to_add.shape)\n",
    "print(y_train.shape)\n",
    "\n",
    "#new X, y train\n",
    "X_train_balanced = np.vstack( (X_train_scaled, X_train_to_add) )\n",
    "y_train_balanced = np.append(y_train, y_train_to_add)\n",
    "print(X_train_balanced.shape, X_train_scaled.shape)\n",
    "print(y_train_balanced.shape, y_train.shape)"
   ]
  },
  {
   "cell_type": "code",
   "execution_count": 117,
   "id": "93598b78",
   "metadata": {},
   "outputs": [
    {
     "name": "stdout",
     "output_type": "stream",
     "text": [
      "GridSearchCV(cv=StratifiedKFold(n_splits=4, random_state=0, shuffle=True),\n",
      "             estimator=LogisticRegression(class_weight='balanced',\n",
      "                                          solver='liblinear'),\n",
      "             param_grid={'C': [0.01, 0.05, 0.1, 0.5, 1, 5, 10]})\n"
     ]
    }
   ],
   "source": [
    "#GridSearchCV with balanced weights\n",
    "optimizer = GridSearchCV(estimator, param_grid, cv=cross_validation)\n",
    "optimizer.fit(X_train_scaled, y_train)\n",
    "print(optimizer)"
   ]
  },
  {
   "cell_type": "code",
   "execution_count": 118,
   "id": "e70fec27",
   "metadata": {},
   "outputs": [
    {
     "name": "stdout",
     "output_type": "stream",
     "text": [
      "Best parameter for GridSearchCV with balanced weights {'C': 0.05}\n",
      "roc_auc_score 0.8846422265145995\n"
     ]
    }
   ],
   "source": [
    "#GridSearchCV with balanced weights\n",
    "print('Best parameter for GridSearchCV with balanced weights', optimizer.best_params_)\n",
    "roc_auc_score_bal2 = roc_auc_score(y_test, optimizer.best_estimator_.predict_proba(X_test_scaled)[:, 1])\n",
    "print('roc_auc_score', roc_auc_score_bal2)"
   ]
  },
  {
   "cell_type": "markdown",
   "id": "7ca3a86d",
   "metadata": {},
   "source": [
    "### Стратификация выборок."
   ]
  },
  {
   "cell_type": "markdown",
   "id": "37aec9df",
   "metadata": {},
   "source": [
    "Рассмотрим ещё раз пример с выборками из нормальных распределений. Посмотрим ещё раз на качество классификаторов, получаемое на тестовых выборках:"
   ]
  },
  {
   "cell_type": "code",
   "execution_count": 119,
   "id": "da4ec8c9",
   "metadata": {},
   "outputs": [
    {
     "name": "stdout",
     "output_type": "stream",
     "text": [
      "AUC ROC for classifier without weighted classes 0.9116666666666666\n",
      "AUC ROC for classifier with weighted classes:  0.9066666666666666\n"
     ]
    }
   ],
   "source": [
    "print('AUC ROC for classifier without weighted classes', auc_wo_class_weights)\n",
    "print('AUC ROC for classifier with weighted classes: ', auc_w_class_weights)"
   ]
  },
  {
   "cell_type": "markdown",
   "id": "f7f3d486",
   "metadata": {},
   "source": [
    "Насколько эти цифры реально отражают качество работы алгоритма, если учесть, что тестовая выборка так же несбалансирована, как обучающая? При этом мы уже знаем, что алгоритм логистический регрессии чувствителен к балансировке классов в обучающей выборке, т.е. в данном случае на тесте он будет давать заведомо заниженные результаты. Метрика классификатора на тесте имела бы гораздо больший смысл, если бы объекты были разделы в выборках поровну: по 20 из каждого класса на обучени и на тесте. Переформируем выборки и подсчитаем новые ошибки:"
   ]
  },
  {
   "cell_type": "code",
   "execution_count": 121,
   "id": "cd215325",
   "metadata": {},
   "outputs": [
    {
     "data": {
      "image/png": "[encoded data removed]",
      "text/plain": [
       "<Figure size 432x288 with 1 Axes>"
      ]
     },
     "metadata": {
      "needs_background": "light"
     },
     "output_type": "display_data"
    },
    {
     "name": "stdout",
     "output_type": "stream",
     "text": [
      "AUC ROC for stratified samples:  0.9125\n"
     ]
    }
   ],
   "source": [
    "\"\"\"Разделим данные по классам поровну между обучающей и тестовой выборками\"\"\"\n",
    "example_data_train = np.vstack([data_0[:20,:], data_1[:20,:]])\n",
    "example_labels_train = np.concatenate([np.zeros((20)), np.ones((20))])\n",
    "example_data_test = np.vstack([data_0[20:,:], data_1[20:,:]])\n",
    "example_labels_test = np.concatenate([np.zeros((20)), np.ones((20))])\n",
    "\"\"\"Обучим классификатор\"\"\"\n",
    "optimizer = GridSearchCV(LogisticRegression(class_weight='balanced'), param_grid, cv=cross_validation, n_jobs=-1)\n",
    "optimizer.fit(example_data_train, example_labels_train)\n",
    "Z = optimizer.predict(np.c_[xx.ravel(), yy.ravel()]).reshape(xx.shape)\n",
    "plt.pcolormesh(xx, yy, Z, cmap=plt.cm.Pastel2)\n",
    "plt.scatter(data_0[:,0], data_0[:,1], color='red')\n",
    "plt.scatter(data_1[:,0], data_1[:,1], color='blue')\n",
    "auc_stratified = roc_auc_score(example_labels_test, optimizer.predict_proba(example_data_test)[:,1])\n",
    "plt.title('With class weights')\n",
    "plt.show()\n",
    "print('AUC ROC for stratified samples: ', auc_stratified)"
   ]
  },
  {
   "cell_type": "markdown",
   "id": "3f60ede9",
   "metadata": {},
   "source": [
    "Как видно, после данной процедуры ответ классификатора изменился незначительно, а вот качество увеличилось. При этом, в зависимости от того, как вы разбили изначально данные на обучение и тест, после сбалансированного разделения выборок итоговая метрика на тесте может как увеличиться, так и уменьшиться, но доверять ей можно значительно больше, т.к. она построена с учётом специфики работы классификатора. Данный подход является частным случаем т.н. метода стратификации."
   ]
  },
  {
   "cell_type": "markdown",
   "id": "7a4a4f25",
   "metadata": {},
   "source": [
    "### Стратификация выборок."
   ]
  },
  {
   "cell_type": "code",
   "execution_count": 122,
   "id": "f0b960aa",
   "metadata": {},
   "outputs": [],
   "source": [
    "def write_answer_4(auc):\n",
    "    with open(\"preprocessing_lr_answer4.txt\", \"w\") as fout:\n",
    "        fout.write(str(auc))"
   ]
  },
  {
   "cell_type": "code",
   "execution_count": 124,
   "id": "267f5810",
   "metadata": {},
   "outputs": [
    {
     "name": "stdout",
     "output_type": "stream",
     "text": [
      "(4200, 13) (1800, 13) (4200,)\n"
     ]
    }
   ],
   "source": [
    "(X_train_real_zeros, \n",
    " X_test_real_zeros, \n",
    " y_train, y_test) = train_test_split(X_real_zeros, y, \n",
    "                                     test_size=0.3, \n",
    "                                     random_state=0, stratify=y)\n",
    "print(X_train_real_zeros.shape, X_test_real_zeros.shape, y_train.shape)\n",
    "\n",
    "(X_train_real_mean, \n",
    " X_test_real_mean, \n",
    " y_train, y_test) = train_test_split(X_real_mean, y, \n",
    "                                     test_size=0.3, \n",
    "                                     random_state=0, stratify=y)\n",
    "\n",
    "(X_train_cat_oh,\n",
    " X_test_cat_oh) = train_test_split(X_cat_oh, \n",
    "                                   test_size=0.3, \n",
    "                                   random_state=0, stratify=y)"
   ]
  },
  {
   "cell_type": "code",
   "execution_count": 125,
   "id": "e410fd09",
   "metadata": {},
   "outputs": [],
   "source": [
    "encoder = StandardScaler()\n",
    "\n",
    "X_train_real_scaled = encoder.fit_transform(X_train_real_zeros)\n",
    "X_test_real_scaled = encoder.fit_transform(X_test_real_zeros)\n",
    "\n",
    "#stacking numerical and categorical features\n",
    "X_train_scaled = np.hstack( (X_train_real_scaled, X_train_cat_oh) )\n",
    "X_test_scaled = np.hstack( (X_test_real_scaled, X_test_cat_oh) )"
   ]
  },
  {
   "cell_type": "code",
   "execution_count": 126,
   "id": "70292b5c",
   "metadata": {},
   "outputs": [],
   "source": [
    "#GridSearchCV parameters\n",
    "param_grid = {'C': [0.01, 0.05, 0.1, 0.5, 1, 5, 10]}\n",
    "cv = 3\n",
    "estimator = LogisticRegression(class_weight='balanced')"
   ]
  },
  {
   "cell_type": "code",
   "execution_count": 127,
   "id": "54b5523f",
   "metadata": {},
   "outputs": [
    {
     "name": "stdout",
     "output_type": "stream",
     "text": [
      "GridSearchCV(cv=3, estimator=LogisticRegression(class_weight='balanced'),\n",
      "             param_grid={'C': [0.01, 0.05, 0.1, 0.5, 1, 5, 10]})\n",
      "Wall time: 33.8 s\n"
     ]
    }
   ],
   "source": [
    "%%time\n",
    "optimizer = GridSearchCV(estimator, param_grid, cv=cv)\n",
    "optimizer.fit(X_train_scaled, y_train)\n",
    "print(optimizer)"
   ]
  },
  {
   "cell_type": "code",
   "execution_count": 128,
   "id": "bf543dd6",
   "metadata": {},
   "outputs": [
    {
     "name": "stdout",
     "output_type": "stream",
     "text": [
      "Best parameter for GridSearchCV with balanced weights {'C': 0.1}\n",
      "roc_auc_score 0.879435786823499\n"
     ]
    }
   ],
   "source": [
    "#GridSearchCV\n",
    "print('Best parameter for GridSearchCV with balanced weights', optimizer.best_params_)\n",
    "roc_auc_score_strat = roc_auc_score(y_test, optimizer.best_estimator_.predict_proba(X_test_scaled)[:, 1])\n",
    "print('roc_auc_score', roc_auc_score_strat)"
   ]
  },
  {
   "cell_type": "markdown",
   "id": "5331b593",
   "metadata": {},
   "source": [
    "основные этапы предобработки данных:\n",
    "\n",
    "    -обработка пропущенных значений\n",
    "    -обработка категориальных признаков\n",
    "    -стратификация\n",
    "    -балансировка классов\n",
    "    -масштабирование\n",
    "\n",
    "Данные действия с данными рекомендуется проводить всякий раз, когда вы планируете использовать линейные методы. Рекомендация по выполнению многих из этих пунктов справедлива и для других методов машинного обучения."
   ]
  },
  {
   "cell_type": "markdown",
   "id": "fe303078",
   "metadata": {},
   "source": [
    "### Трансформация признаков."
   ]
  },
  {
   "cell_type": "markdown",
   "id": "b3702e5f",
   "metadata": {},
   "source": [
    "Существует достаточно много различных способов трансформации признаков, которые позволяют при помощи линейных методов получать более сложные разделяющие поверхности. Самым базовым является полиномиальное преобразование признаков. Его идея заключается в том, что помимо самих признаков вы дополнительно включаете набор все полиномы степени $p$, которые можно из них построить.\n",
    "\n",
    "Рассмотрим принцип работы данных признаков на данных, сэмплированных их гауссиан:"
   ]
  },
  {
   "cell_type": "code",
   "execution_count": 129,
   "id": "a608ab6a",
   "metadata": {},
   "outputs": [
    {
     "data": {
      "image/png": "[encoded data removed]",
      "text/plain": [
       "<Figure size 432x288 with 1 Axes>"
      ]
     },
     "metadata": {
      "needs_background": "light"
     },
     "output_type": "display_data"
    }
   ],
   "source": [
    "from sklearn.preprocessing import PolynomialFeatures\n",
    "\n",
    "\"\"\"Инициализируем класс, который выполняет преобразование\"\"\"\n",
    "transform = PolynomialFeatures(2)\n",
    "\"\"\"Обучаем преобразование на обучающей выборке, применяем его к тестовой\"\"\"\n",
    "example_data_train_poly = transform.fit_transform(example_data_train)\n",
    "example_data_test_poly = transform.transform(example_data_test)\n",
    "\"\"\"Обращаем внимание на параметр fit_intercept=False\"\"\"\n",
    "optimizer = GridSearchCV(LogisticRegression(class_weight='balanced', fit_intercept=False), param_grid, cv=cv, n_jobs=-1)\n",
    "optimizer.fit(example_data_train_poly, example_labels_train)\n",
    "Z = optimizer.predict(transform.transform(np.c_[xx.ravel(), yy.ravel()])).reshape(xx.shape)\n",
    "plt.pcolormesh(xx, yy, Z, cmap=plt.cm.Pastel2)\n",
    "plt.scatter(data_0[:,0], data_0[:,1], color='red')\n",
    "plt.scatter(data_1[:,0], data_1[:,1], color='blue')\n",
    "plt.title('With class weights')\n",
    "plt.show()"
   ]
  },
  {
   "cell_type": "code",
   "execution_count": 130,
   "id": "837e24a0",
   "metadata": {},
   "outputs": [
    {
     "name": "stdout",
     "output_type": "stream",
     "text": [
      "(40, 6)\n"
     ]
    }
   ],
   "source": [
    "print(example_data_train_poly.shape)"
   ]
  },
  {
   "cell_type": "markdown",
   "id": "cc21e97c",
   "metadata": {},
   "source": [
    "Но при этом одновременно данный метод способствует более сильной способности модели к переобучению из-за быстрого роста числа признаком с увеличением степени $p$. Рассмотрим пример с $p=11$:"
   ]
  },
  {
   "cell_type": "code",
   "execution_count": 131,
   "id": "5d3f8f3b",
   "metadata": {},
   "outputs": [
    {
     "data": {
      "image/png": "[encoded data removed]",
      "text/plain": [
       "<Figure size 432x288 with 1 Axes>"
      ]
     },
     "metadata": {
      "needs_background": "light"
     },
     "output_type": "display_data"
    }
   ],
   "source": [
    "transform = PolynomialFeatures(11)\n",
    "example_data_train_poly = transform.fit_transform(example_data_train)\n",
    "example_data_test_poly = transform.transform(example_data_test)\n",
    "optimizer = GridSearchCV(LogisticRegression(class_weight='balanced', fit_intercept=False), param_grid, cv=cv, n_jobs=-1)\n",
    "optimizer.fit(example_data_train_poly, example_labels_train)\n",
    "Z = optimizer.predict(transform.transform(np.c_[xx.ravel(), yy.ravel()])).reshape(xx.shape)\n",
    "plt.pcolormesh(xx, yy, Z, cmap=plt.cm.Pastel2)\n",
    "plt.scatter(data_0[:,0], data_0[:,1], color='red')\n",
    "plt.scatter(data_1[:,0], data_1[:,1], color='blue')\n",
    "plt.title('Corrected class weights')\n",
    "plt.show()"
   ]
  },
  {
   "cell_type": "markdown",
   "id": "6e1f3857",
   "metadata": {},
   "source": [
    "Количество признаков в данной модели:"
   ]
  },
  {
   "cell_type": "code",
   "execution_count": 132,
   "id": "434fa714",
   "metadata": {},
   "outputs": [
    {
     "name": "stdout",
     "output_type": "stream",
     "text": [
      "(40, 78)\n"
     ]
    }
   ],
   "source": [
    "print(example_data_train_poly.shape)"
   ]
  },
  {
   "cell_type": "markdown",
   "id": "9e5a8541",
   "metadata": {},
   "source": [
    "### Трансформация признаков."
   ]
  },
  {
   "cell_type": "code",
   "execution_count": 133,
   "id": "205f4fde",
   "metadata": {},
   "outputs": [],
   "source": [
    "def write_answer_5(auc):\n",
    "    with open(\"preprocessing_lr_answer5.txt\", \"w\") as fout:\n",
    "        fout.write(str(auc))"
   ]
  },
  {
   "cell_type": "code",
   "execution_count": 134,
   "id": "7d5113bc",
   "metadata": {},
   "outputs": [],
   "source": [
    "transform = PolynomialFeatures(2)\n",
    "\n",
    "data_train_poly = transform.fit_transform(X_train_real_zeros)\n",
    "data_test_poly = transform.transform(X_test_real_zeros)\n",
    "\n",
    "encoder = StandardScaler()\n",
    "\n",
    "data_train_poly_scaled = encoder.fit_transform(data_train_poly)\n",
    "data_test_poly_scaled = encoder.fit_transform(data_test_poly)\n",
    "\n",
    "#stacking numerical and categorical features\n",
    "data_train_poly_full = np.hstack( (data_train_poly_scaled, X_train_cat_oh) )\n",
    "data_test_poly_full = np.hstack( (data_test_poly_scaled, X_test_cat_oh) )"
   ]
  },
  {
   "cell_type": "code",
   "execution_count": 135,
   "id": "5dcf839c",
   "metadata": {},
   "outputs": [],
   "source": [
    "#GridSearchCV parameters\n",
    "param_grid = {'C': [0.01, 0.05, 0.1, 0.5, 1, 5, 10]}\n",
    "cv = 3\n",
    "estimator = LogisticRegression(class_weight='balanced', fit_intercept=False)"
   ]
  },
  {
   "cell_type": "code",
   "execution_count": 136,
   "id": "f0ff4dd7",
   "metadata": {},
   "outputs": [
    {
     "name": "stdout",
     "output_type": "stream",
     "text": [
      "GridSearchCV(cv=3,\n",
      "             estimator=LogisticRegression(class_weight='balanced',\n",
      "                                          fit_intercept=False),\n",
      "             param_grid={'C': [0.01, 0.05, 0.1, 0.5, 1, 5, 10]})\n",
      "Wall time: 34.2 s\n"
     ]
    }
   ],
   "source": [
    "%%time\n",
    "optimizer = GridSearchCV(estimator, param_grid, cv=cv)\n",
    "optimizer.fit(data_train_poly_full, y_train)\n",
    "print(optimizer)"
   ]
  },
  {
   "cell_type": "code",
   "execution_count": 137,
   "id": "c5d6d1f8",
   "metadata": {},
   "outputs": [
    {
     "name": "stdout",
     "output_type": "stream",
     "text": [
      "Best parameter for GridSearchCV with balanced weights {'C': 0.1}\n",
      "roc_auc_score 0.887558526015156\n"
     ]
    }
   ],
   "source": [
    "#GridSearchCV\n",
    "print('Best parameter for GridSearchCV with balanced weights', optimizer.best_params_)\n",
    "roc_auc_score_poly = roc_auc_score(y_test, optimizer.best_estimator_.predict_proba(data_test_poly_full)[:, 1])\n",
    "print('roc_auc_score', roc_auc_score_poly)"
   ]
  },
  {
   "cell_type": "code",
   "execution_count": 144,
   "id": "c879f3da",
   "metadata": {},
   "outputs": [],
   "source": [
    "write_answer_5(roc_auc_score_poly)"
   ]
  },
  {
   "cell_type": "code",
   "execution_count": null,
   "id": "36a24bd2",
   "metadata": {},
   "outputs": [],
   "source": []
  }
 ],
 "metadata": {
  "kernelspec": {
   "display_name": "Python 3",
   "language": "python",
   "name": "python3"
  },
  "language_info": {
   "codemirror_mode": {
    "name": "ipython",
    "version": 3
   },
   "file_extension": ".py",
   "mimetype": "text/x-python",
   "name": "python",
   "nbconvert_exporter": "python",
   "pygments_lexer": "ipython3",
   "version": "3.8.8"
  }
 },
 "nbformat": 4,
 "nbformat_minor": 5
}
