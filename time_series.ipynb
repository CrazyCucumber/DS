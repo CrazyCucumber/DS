{
 "cells": [
  {
   "cell_type": "markdown",
   "metadata": {},
   "source": [
    "# Расчет и прогнозирования объемов данных DWH"
   ]
  },
  {
   "cell_type": "code",
   "execution_count": 25,
   "metadata": {},
   "outputs": [],
   "source": [
    "import pandas as pd\n",
    "import seaborn as sns\n",
    "from matplotlib import pyplot as plt\n",
    "from functools import reduce\n",
    "from sklearn.linear_model import LinearRegression\n",
    "from sklearn.metrics import r2_score\n",
    "from sqlalchemy import create_engine\n",
    "from statsmodels.graphics import tsaplots\n",
    "import warnings\n",
    "import pmdarima as pm\n",
    "from pmdarima.model_selection import train_test_split\n",
    "from IPython.display import Markdown as md\n",
    "\n",
    "plt.rcParams[\"figure.figsize\"] = (12, 8)\n",
    "\n",
    "SQL_STATS = \"select rec_id, rec_date, db_name, schema_name || '.' || object_name as object_name, object_size, row_count from stats\"\n",
    "MEASURE = 'object_size'\n",
    "DIVIDER = 1024 * 1024 * 1024 # bytes -> GB\n",
    "SLACK = 0.1\n",
    "BACKUP_SIZE = 69 * DIVIDER\n",
    "DB_HOST = 'cn-msk-dwh-02'\n",
    "LOGIN = 'SECRET'\n",
    "PSW = 'SECRET!'\n",
    "\n",
    "conn = create_engine(f'postgresql://{LOGIN}:{PSW}@{DB_HOST}:5432/stage')"
   ]
  },
  {
   "cell_type": "markdown",
   "metadata": {},
   "source": [
    "Для сбора статистики разработан DAG ctrl-stats, формирующий временные ряды количеств записей и объемов для всех таблиц DWH, а также объемов данных баз данных целиком и дискового пространства.\n",
    "Набранная статистика:"
   ]
  },
  {
   "cell_type": "code",
   "execution_count": 26,
   "metadata": {},
   "outputs": [
    {
     "name": "stdout",
     "output_type": "stream",
     "text": [
      "Дата начала сбора статистики: 2021-10-03 00:00:00\n",
      "Актуальность: 2021-10-24 00:00:00\n",
      "Количество записей 4805\n"
     ]
    }
   ],
   "source": [
    "df_stats = pd.read_sql(SQL_STATS, conn, index_col='rec_id', parse_dates=['rec_date'])\n",
    "print(f'Дата начала сбора статистики: {min(df_stats.rec_date)}')\n",
    "print(f'Актуальность: {max(df_stats.rec_date)}')\n",
    "print(f'Количество записей {df_stats.shape[0]}')"
   ]
  },
  {
   "cell_type": "markdown",
   "metadata": {},
   "source": [
    "\n",
    "В набранной статистике могут быть выделены три временных ряда:\n",
    "\n",
    "<ul>\n",
    "<li>Данные количества записей и объемов каждой таблицы DWH</li>\n",
    "<li>Данные объема данных в каждой БД DWH</li>\n",
    "<li>Данные объема доступного дискового пространства</li>\n",
    "</ul>"
   ]
  },
  {
   "cell_type": "code",
   "execution_count": 27,
   "metadata": {},
   "outputs": [],
   "source": [
    "# Выделяем временные ряды по таблицам, по БД, по дисковому пространству\n",
    "# Ряд по ДП приводим к тем же единицам что и остальные (он в килобайтах)\n",
    "ts_tbl = df_stats[ ~df_stats['object_name'].isna() ].copy()\n",
    "ts_db = df_stats[ df_stats['object_name'].isna() & (df_stats['db_name'] != 'disk') ].copy()\n",
    "ts_disk = df_stats[ df_stats['object_name'].isna() & (df_stats['db_name'] == 'disk') ].copy()\n",
    "ts_disk['object_size'] = ts_disk['object_size'] * 1024"
   ]
  },
  {
   "cell_type": "code",
   "execution_count": 28,
   "metadata": {},
   "outputs": [
    {
     "name": "stdout",
     "output_type": "stream",
     "text": [
      "Характеристики временного ряда по таблицам:\n",
      "        object_size     row_count\n",
      "count  4.685000e+03  4.685000e+03\n",
      "mean   3.173575e+09  1.223261e+07\n",
      "std    1.414879e+10  5.312849e+07\n",
      "min    8.192000e+03  0.000000e+00\n",
      "25%    4.096000e+04  1.100000e+01\n",
      "50%    1.228800e+05  3.560000e+02\n",
      "75%    7.084605e+08  4.948764e+06\n",
      "max    1.356334e+11  4.672943e+08\n",
      "\n",
      "Характеристики временного ряда по БД:\n",
      "        object_size  row_count\n",
      "count  1.010000e+02        0.0\n",
      "mean   1.482553e+11        NaN\n",
      "std    1.560411e+11        NaN\n",
      "min    1.050775e+07        NaN\n",
      "25%    2.982828e+10        NaN\n",
      "50%    3.096189e+10        NaN\n",
      "75%    3.065654e+11        NaN\n",
      "max    3.783724e+11        NaN\n",
      "\n",
      "Характеристики временного ряда по дискам:\n",
      "        object_size  row_count\n",
      "count  1.900000e+01        0.0\n",
      "mean   9.861993e+11        NaN\n",
      "std    0.000000e+00        NaN\n",
      "min    9.861993e+11        NaN\n",
      "25%    9.861993e+11        NaN\n",
      "50%    9.861993e+11        NaN\n",
      "75%    9.861993e+11        NaN\n",
      "max    9.861993e+11        NaN\n"
     ]
    }
   ],
   "source": [
    "print(f'Характеристики временного ряда по таблицам:\\n{ts_tbl.describe()}')\n",
    "print(f'\\nХарактеристики временного ряда по БД:\\n{ts_db.describe()}')\n",
    "print(f'\\nХарактеристики временного ряда по дискам:\\n{ts_disk.describe()}')"
   ]
  },
  {
   "cell_type": "markdown",
   "metadata": {},
   "source": [
    "\n",
    "Анализируем временной ряд по таблицам. Проверим полноту данных (что данные есть для всех таблиц за все дни)."
   ]
  },
  {
   "cell_type": "code",
   "execution_count": 29,
   "metadata": {},
   "outputs": [
    {
     "data": {
      "text/html": [
       "<div>\n",
       "<style scoped>\n",
       "    .dataframe tbody tr th:only-of-type {\n",
       "        vertical-align: middle;\n",
       "    }\n",
       "\n",
       "    .dataframe tbody tr th {\n",
       "        vertical-align: top;\n",
       "    }\n",
       "\n",
       "    .dataframe thead th {\n",
       "        text-align: right;\n",
       "    }\n",
       "</style>\n",
       "<table border=\"1\" class=\"dataframe\">\n",
       "  <thead>\n",
       "    <tr style=\"text-align: right;\">\n",
       "      <th></th>\n",
       "      <th>rec_date</th>\n",
       "      <th>object_name</th>\n",
       "      <th>object_size</th>\n",
       "      <th>row_count</th>\n",
       "    </tr>\n",
       "  </thead>\n",
       "  <tbody>\n",
       "    <tr>\n",
       "      <th>0</th>\n",
       "      <td>2021-10-03</td>\n",
       "      <td>149</td>\n",
       "      <td>149</td>\n",
       "      <td>149</td>\n",
       "    </tr>\n",
       "    <tr>\n",
       "      <th>1</th>\n",
       "      <td>2021-10-04</td>\n",
       "      <td>149</td>\n",
       "      <td>149</td>\n",
       "      <td>149</td>\n",
       "    </tr>\n",
       "    <tr>\n",
       "      <th>2</th>\n",
       "      <td>2021-10-05</td>\n",
       "      <td>149</td>\n",
       "      <td>149</td>\n",
       "      <td>149</td>\n",
       "    </tr>\n",
       "    <tr>\n",
       "      <th>3</th>\n",
       "      <td>2021-10-06</td>\n",
       "      <td>216</td>\n",
       "      <td>216</td>\n",
       "      <td>216</td>\n",
       "    </tr>\n",
       "    <tr>\n",
       "      <th>4</th>\n",
       "      <td>2021-10-07</td>\n",
       "      <td>216</td>\n",
       "      <td>216</td>\n",
       "      <td>216</td>\n",
       "    </tr>\n",
       "    <tr>\n",
       "      <th>5</th>\n",
       "      <td>2021-10-08</td>\n",
       "      <td>216</td>\n",
       "      <td>216</td>\n",
       "      <td>216</td>\n",
       "    </tr>\n",
       "    <tr>\n",
       "      <th>6</th>\n",
       "      <td>2021-10-09</td>\n",
       "      <td>217</td>\n",
       "      <td>217</td>\n",
       "      <td>217</td>\n",
       "    </tr>\n",
       "    <tr>\n",
       "      <th>7</th>\n",
       "      <td>2021-10-10</td>\n",
       "      <td>217</td>\n",
       "      <td>217</td>\n",
       "      <td>217</td>\n",
       "    </tr>\n",
       "    <tr>\n",
       "      <th>8</th>\n",
       "      <td>2021-10-11</td>\n",
       "      <td>217</td>\n",
       "      <td>217</td>\n",
       "      <td>217</td>\n",
       "    </tr>\n",
       "    <tr>\n",
       "      <th>9</th>\n",
       "      <td>2021-10-12</td>\n",
       "      <td>220</td>\n",
       "      <td>220</td>\n",
       "      <td>220</td>\n",
       "    </tr>\n",
       "  </tbody>\n",
       "</table>\n",
       "</div>"
      ],
      "text/plain": [
       "    rec_date  object_name  object_size  row_count\n",
       "0 2021-10-03          149          149        149\n",
       "1 2021-10-04          149          149        149\n",
       "2 2021-10-05          149          149        149\n",
       "3 2021-10-06          216          216        216\n",
       "4 2021-10-07          216          216        216\n",
       "5 2021-10-08          216          216        216\n",
       "6 2021-10-09          217          217        217\n",
       "7 2021-10-10          217          217        217\n",
       "8 2021-10-11          217          217        217\n",
       "9 2021-10-12          220          220        220"
      ]
     },
     "execution_count": 29,
     "metadata": {},
     "output_type": "execute_result"
    }
   ],
   "source": [
    "# Анализ временного ряда по таблицам\n",
    "ts_tbl['object_name'] = ts_tbl['db_name'] + '.' + ts_tbl['object_name']\n",
    "ts_tbl.drop(columns=['db_name'], inplace=True)\n",
    "ts_tbl.groupby(by=['rec_date']).count().reset_index().head(10)"
   ]
  },
  {
   "cell_type": "markdown",
   "metadata": {},
   "source": [
    "<b>Вывод</b>: данные до 06.10 неполные и могут быть отброшены."
   ]
  },
  {
   "cell_type": "code",
   "execution_count": 30,
   "metadata": {},
   "outputs": [],
   "source": [
    "# Отбрасываем данные до 06.10\n",
    "MIN_DATE = pd.Timestamp('2021-10-06')\n",
    "ts_tbl2 = ts_tbl[ ts_tbl.rec_date >= MIN_DATE]"
   ]
  },
  {
   "cell_type": "markdown",
   "metadata": {},
   "source": [
    "Посмотрим матрицу корреляции между переменными ```object_size``` (размер таблицы в байтах) и ```row_count``` (количество записей)."
   ]
  },
  {
   "cell_type": "code",
   "execution_count": 31,
   "metadata": {},
   "outputs": [
    {
     "data": {
      "text/html": [
       "<style  type=\"text/css\" >\n",
       "#T_cdd07a0a_3566_11ec_ba89_34c93d4d8635row0_col0,#T_cdd07a0a_3566_11ec_ba89_34c93d4d8635row1_col1{\n",
       "            background-color:  #b40426;\n",
       "            color:  #f1f1f1;\n",
       "        }#T_cdd07a0a_3566_11ec_ba89_34c93d4d8635row0_col1,#T_cdd07a0a_3566_11ec_ba89_34c93d4d8635row1_col0{\n",
       "            background-color:  #3b4cc0;\n",
       "            color:  #f1f1f1;\n",
       "        }</style><table id=\"T_cdd07a0a_3566_11ec_ba89_34c93d4d8635\" ><thead>    <tr>        <th class=\"blank level0\" ></th>        <th class=\"col_heading level0 col0\" >object_size</th>        <th class=\"col_heading level0 col1\" >row_count</th>    </tr></thead><tbody>\n",
       "                <tr>\n",
       "                        <th id=\"T_cdd07a0a_3566_11ec_ba89_34c93d4d8635level0_row0\" class=\"row_heading level0 row0\" >object_size</th>\n",
       "                        <td id=\"T_cdd07a0a_3566_11ec_ba89_34c93d4d8635row0_col0\" class=\"data row0 col0\" >1.000000</td>\n",
       "                        <td id=\"T_cdd07a0a_3566_11ec_ba89_34c93d4d8635row0_col1\" class=\"data row0 col1\" >0.947402</td>\n",
       "            </tr>\n",
       "            <tr>\n",
       "                        <th id=\"T_cdd07a0a_3566_11ec_ba89_34c93d4d8635level0_row1\" class=\"row_heading level0 row1\" >row_count</th>\n",
       "                        <td id=\"T_cdd07a0a_3566_11ec_ba89_34c93d4d8635row1_col0\" class=\"data row1 col0\" >0.947402</td>\n",
       "                        <td id=\"T_cdd07a0a_3566_11ec_ba89_34c93d4d8635row1_col1\" class=\"data row1 col1\" >1.000000</td>\n",
       "            </tr>\n",
       "    </tbody></table>"
      ],
      "text/plain": [
       "<pandas.io.formats.style.Styler at 0x295ff339940>"
      ]
     },
     "execution_count": 31,
     "metadata": {},
     "output_type": "execute_result"
    }
   ],
   "source": [
    "# Строим матрицу корреляции между переменными\n",
    "corr = ts_tbl2.corr()\n",
    "corr.style.background_gradient(cmap='coolwarm')"
   ]
  },
  {
   "cell_type": "markdown",
   "metadata": {},
   "source": [
    "<b>Вывод</b>: наблюдается сильная корреляция между переменными, так что можно использовать только одну из них. \n",
    "\n",
    "Для дальнейшего анализа будет использоваться переменная ```object_size```."
   ]
  },
  {
   "cell_type": "code",
   "execution_count": 32,
   "metadata": {},
   "outputs": [],
   "source": [
    "# Поскольку корреляция высокая, отбрасываем row_count\n",
    "ts_tbl3 = ts_tbl2.drop(columns=['row_count'])\n",
    "\n",
    "# Считаем объем всех баз на каждый день\n",
    "ts_tbl3['db_name'] = ts_tbl3['object_name'].map(lambda x: x.split('.')[0])\n",
    "ts_tbl3_sum = ts_tbl3.groupby(by=['rec_date', 'db_name']).sum().reset_index()"
   ]
  },
  {
   "cell_type": "markdown",
   "metadata": {},
   "source": [
    "Проведем визуальный анализ временного ряда по БД."
   ]
  },
  {
   "cell_type": "code",
   "execution_count": 33,
   "metadata": {},
   "outputs": [
    {
     "data": {
      "text/plain": [
       "Text(0, 0.5, 'Размер (GB)')"
      ]
     },
     "execution_count": 33,
     "metadata": {},
     "output_type": "execute_result"
    },
    {
     "data": {
      "image/png": "[encoded data removed]",
      "text/plain": [
       "<Figure size 864x576 with 1 Axes>"
      ]
     },
     "metadata": {
      "needs_background": "light"
     },
     "output_type": "display_data"
    }
   ],
   "source": [
    "# Отбрасываем незначащие колонки и данные до 06.10\n",
    "ts_db2 = ts_db[ ts_db['rec_date'] >= MIN_DATE ] \\\n",
    "    .drop(columns=['object_name', 'row_count']) \\\n",
    "    .reset_index()\n",
    "\n",
    "# Отображение данных\n",
    "ts_db3 = ts_db2.copy()\n",
    "ts_db3['object_size'] = ts_db3['object_size'] / DIVIDER\n",
    "ax = sns.lineplot(data=ts_db3, x='rec_date', y='object_size', hue='db_name')\n",
    "ax.set_title('Фактические размеры БД')\n",
    "ax.set_xlabel('Дата')\n",
    "ax.set_ylabel('Размер (GB)')"
   ]
  },
  {
   "cell_type": "markdown",
   "metadata": {},
   "source": [
    "Из приведенной диаграммы видно что ряд монотонно увеличивается для каждой категории ```db_name``` - что в общем-то и ожидалось.\n",
    "\n",
    "Сравним значения объема БД, полученные из рядов по БД и по таблицам."
   ]
  },
  {
   "cell_type": "code",
   "execution_count": 44,
   "metadata": {},
   "outputs": [
    {
     "name": "stdout",
     "output_type": "stream",
     "text": [
      "     rec_date db_name  object_size_x  object_size_y        diff\n",
      "85 2021-10-24     dwh    30601672167    25838616576  4763055591\n",
      "80 2021-10-23     dwh    30565004775    25801949184  4763055591\n",
      "75 2021-10-22     dwh    30492628455    25730465792  4762162663\n",
      "60 2021-10-19     dwh    30327772647    25565609984  4762162663\n",
      "70 2021-10-21     dwh    30447523303    25685360640  4762162663\n",
      "65 2021-10-20     dwh    30356977127    25594814464  4762162663\n",
      "55 2021-10-18     dwh    30274172391    25512017920  4762154471\n",
      "50 2021-10-17     dwh    30247589351    25485443072  4762146279\n",
      "45 2021-10-16     dwh    30212183527    25450037248  4762146279\n",
      "40 2021-10-15     dwh    30151316967    25389170688  4762146279\n"
     ]
    }
   ],
   "source": [
    "# Сравниваем размеры БД с размерами, полученными на данных временного ряда по таблицам\n",
    "df = ts_db2 \\\n",
    "    .merge(ts_tbl3.groupby(by=['rec_date', 'db_name']).sum(), on=['rec_date', 'db_name'])\n",
    "df['diff'] = df.object_size_x - df.object_size_y\n",
    "print(df.sort_values(by='diff', ascending=False)[['rec_date', 'db_name', 'object_size_x', 'object_size_y', 'diff']].head(10))"
   ]
  },
  {
   "cell_type": "markdown",
   "metadata": {},
   "source": [
    "<b>Вывод</b>: наблюдаются существенные расхождения в значениях целевой переменной, полученных из разных рядов, поэтому их совместное использование нецелесообразно. Для дальнейшего анализа будет использован только ряд по БД.\n",
    "\n",
    "Посчитаем суммарный объем всех БД на каждую дату:"
   ]
  },
  {
   "cell_type": "code",
   "execution_count": 35,
   "metadata": {},
   "outputs": [
    {
     "name": "stdout",
     "output_type": "stream",
     "text": [
      "Суммарный объем БД:\n",
      "    rec_date   object_size\n",
      "0 2021-10-06  701714394499\n",
      "1 2021-10-07  703768702339\n",
      "2 2021-10-08  705880984963\n",
      "3 2021-10-09  707990179203\n",
      "4 2021-10-10  709808795011\n",
      "5 2021-10-11  711482502531\n",
      "6 2021-10-12  712954318211\n",
      "7 2021-10-13  724187540867\n",
      "8 2021-10-14  727324339587\n",
      "9 2021-10-15  729030430083\n"
     ]
    }
   ],
   "source": [
    "# Создаем ряд суммарного объема БД\n",
    "ts_all = ts_db2.groupby('rec_date', as_index=False).sum()[['rec_date', 'object_size']]\n",
    "x = ts_all.rec_date\n",
    "y = ts_all.object_size\n",
    "print(f'Суммарный объем БД:\\n{ts_all.head(10)}')"
   ]
  },
  {
   "cell_type": "markdown",
   "metadata": {},
   "source": [
    "Для устойчивой работы алгоритмов анализа необходимо соблюдение условий стационарности. Определим, соблюдается ли это условие для временного ряда суммарного объема БД. В случае, если оное условие не соблюдается, определем количество дифференциаторов для приведения ряда к стационарному."
   ]
  },
  {
   "cell_type": "code",
   "execution_count": 36,
   "metadata": {},
   "outputs": [
    {
     "name": "stdout",
     "output_type": "stream",
     "text": [
      "Соблюдение условия стационарности временного ряда: False\n",
      "Количество дифференциаторов для обеспечения стационарности: 1\n"
     ]
    }
   ],
   "source": [
    "# Проверяем стационарность ряда\n",
    "print(f'Соблюдение условия стационарности временного ряда: {not pm.arima.KPSSTest().should_diff(y)[1]}')\n",
    "print(f'Количество дифференциаторов для обеспечения стационарности: {pm.arima.ndiffs(y)}')"
   ]
  },
  {
   "cell_type": "markdown",
   "metadata": {},
   "source": [
    "Исходя из того, что целевая переменная монотонно увеличивается для каждой из категории, предполагаем отсутствие ярко выраженной сезонности. Поэтому для прогнозирования может быть использована модель анализа временных рядов ARIMA (AutoRegressive Integrated Moving Average). \n",
    "\n",
    "Подбираем параметры модели:"
   ]
  },
  {
   "cell_type": "code",
   "execution_count": 37,
   "metadata": {},
   "outputs": [
    {
     "data": {
      "text/plain": [
       "ARIMA(order=(0, 1, 0), scoring_args={}, suppress_warnings=True)"
      ]
     },
     "execution_count": 37,
     "metadata": {},
     "output_type": "execute_result"
    }
   ],
   "source": [
    "# Строим модель ARIMA\n",
    "y_train, y_test = train_test_split(y, train_size=0.8)\n",
    "x_train, x_test = x[:y_train.shape[0]], x[y_train.shape[0]:]\n",
    "\n",
    "with warnings.catch_warnings():\n",
    "    warnings.filterwarnings('ignore', category=FutureWarning)\n",
    "    model = pm.auto_arima(y_train, seasonal=False, suppress_warnings=True)\n",
    "model"
   ]
  },
  {
   "cell_type": "markdown",
   "metadata": {},
   "source": [
    "Построенная модель использует параметры ```p=0``` и ```q=0```, то есть практически линейна. Это говорит о недостаточности объема накопленной статистики. Возможно, по мере накопления данных, ситуация поменяется.\n",
    "\n",
    "Построим прогноз изменения объема данных на 60 дней и отобразим динамику визуально.\n",
    "К актуальному и предсказанным объемам будет добавлен объем backup в размере 69 GB (состояние на 25.10.2021). Исходя из прогноза и временного ряда по диска, определим дату возможного исчерпания дискового пространства."
   ]
  },
  {
   "cell_type": "code",
   "execution_count": 38,
   "metadata": {},
   "outputs": [],
   "source": [
    "# Предсказание на 60 дней\n",
    "FCAST_WINDOW = 60\n",
    "x_pred = pd.Series(pd.date_range(min(x_test), periods=FCAST_WINDOW, freq='D'))\n",
    "y_pred = model.predict(FCAST_WINDOW)"
   ]
  },
  {
   "cell_type": "code",
   "execution_count": 39,
   "metadata": {},
   "outputs": [],
   "source": [
    "# Добавляем бэкап или слак\n",
    "# y2 = y * (1 + SLACK )\n",
    "# y_train2 = y_train * (1 + SLACK)\n",
    "# y_pred2 = y_pred * (1 + SLACK)\n",
    "y2 = y + BACKUP_SIZE\n",
    "y_train2 = y_train + BACKUP_SIZE\n",
    "y_pred2 = y_pred + BACKUP_SIZE"
   ]
  },
  {
   "cell_type": "code",
   "execution_count": 40,
   "metadata": {},
   "outputs": [],
   "source": [
    "# Формируем ряд для диска\n",
    "x_disk = x_train\n",
    "x_disk = x_disk.append(x_pred)\n",
    "x_disk = x_disk.reset_index(drop=True)\n",
    "y_disk = ts_disk.object_size\n",
    "y_disk = y_disk.append(pd.Series([y_disk.iloc[-1] for y in range(len(x_disk) - len(y_disk))]))\n",
    "y_disk = y_disk.reset_index(drop=True)"
   ]
  },
  {
   "cell_type": "code",
   "execution_count": 41,
   "metadata": {},
   "outputs": [
    {
     "name": "stdout",
     "output_type": "stream",
     "text": [
      "Ожидаемая дата исчерпания ДП: 2021-12-11\n"
     ]
    }
   ],
   "source": [
    "# Определяем дату исчерпания объема диска\n",
    "dt_full = None\n",
    "for dp, vp in zip(x_pred, y_pred2):\n",
    "    vd = y_disk[ x_disk[ x_disk == dp].index ]\n",
    "    if vd.to_numpy()[0] < vp:\n",
    "        dt_full = dp\n",
    "        break\n",
    "\n",
    "if dt_full:\n",
    "    print(f'Ожидаемая дата исчерпания ДП: {dt_full.strftime(\"%Y-%m-%d\")}')\n",
    "else:\n",
    "    print('На заданном горизонте ДП хватит')"
   ]
  },
  {
   "cell_type": "code",
   "execution_count": 42,
   "metadata": {},
   "outputs": [],
   "source": [
    "# Переводим в гигабайты\n",
    "y3 = y2 / DIVIDER\n",
    "y_train3 = y_train2 / DIVIDER\n",
    "y_pred3 = y_pred2 / DIVIDER\n",
    "y_disk3 = y_disk / DIVIDER"
   ]
  },
  {
   "cell_type": "code",
   "execution_count": 43,
   "metadata": {},
   "outputs": [
    {
     "data": {
      "image/png": "[encoded data removed]",
      "text/plain": [
       "<Figure size 864x576 with 1 Axes>"
      ]
     },
     "metadata": {
      "needs_background": "light"
     },
     "output_type": "display_data"
    }
   ],
   "source": [
    "# Вывод\n",
    "p = plt.plot(x_train, y_train3, c='blue')\n",
    "p[0].set_label('actual')\n",
    "p = plt.plot(x_pred, y_pred3, c='green')\n",
    "p[0].set_label('forecast')\n",
    "p = plt.plot(x_disk, y_disk3, c='red')\n",
    "p[0].set_label('volume')\n",
    "if dt_full:\n",
    "    plt.vlines(dt_full, ymin=min(y3), ymax=max(y_pred3), colors='gray', linestyles='dotted')\n",
    "    plt.text(x=dt_full, y=min(y3), s=dt_full.strftime(\"%Y-%m-%d\"), horizontalalignment='center')\n",
    "plt.legend()\n",
    "plt.title('Динамика роста объема БД продуктивного контура')\n",
    "plt.xlabel('Дата')\n",
    "plt.ylabel('Размер (в GB)')\n",
    "plt.show()"
   ]
  },
  {
   "cell_type": "markdown",
   "metadata": {},
   "source": [
    "<b>Вывод</b>: исходя из текущей тенденции роста объема базы, возможно скорое исчерпание дискового пространства. Необходимо принять меры по его расширению во избежание сбоя процессов загрузки."
   ]
  }
 ],
 "metadata": {
  "interpreter": {
   "hash": "0e5bf3a2e2c89d54394f4d6019408ae8cec1650e9c3acc8647d20f319cc707d7"
  },
  "kernelspec": {
   "display_name": "Python 3",
   "language": "python",
   "name": "python3"
  },
  "language_info": {
   "codemirror_mode": {
    "name": "ipython",
    "version": 3
   },
   "file_extension": ".py",
   "mimetype": "text/x-python",
   "name": "python",
   "nbconvert_exporter": "python",
   "pygments_lexer": "ipython3",
   "version": "3.8.8"
  }
 },
 "nbformat": 4,
 "nbformat_minor": 2
}
